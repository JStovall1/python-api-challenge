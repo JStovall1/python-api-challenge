{
 "cells": [
  {
   "cell_type": "markdown",
   "id": "313aaf48",
   "metadata": {},
   "source": [
    "# WeatherPY\n"
   ]
  },
  {
   "cell_type": "code",
   "execution_count": 1,
   "id": "82957654",
   "metadata": {},
   "outputs": [
    {
     "name": "stdout",
     "output_type": "stream",
     "text": [
      "Requirement already satisfied: citipy in /Users/JAS/opt/anaconda3/envs/PythonData/lib/python3.7/site-packages (0.0.5)\n",
      "Requirement already satisfied: kdtree>=0.12 in /Users/JAS/opt/anaconda3/envs/PythonData/lib/python3.7/site-packages (from citipy) (0.16)\n",
      "Note: you may need to restart the kernel to use updated packages.\n"
     ]
    }
   ],
   "source": [
    "pip install citipy"
   ]
  },
  {
   "cell_type": "code",
   "execution_count": 2,
   "id": "074bc3b8",
   "metadata": {},
   "outputs": [],
   "source": [
    "# Dependencies and Setup\n",
    "import matplotlib.pyplot as plt\n",
    "import pandas as pd\n",
    "import numpy as np\n",
    "import requests\n",
    "import time\n",
    "from scipy.stats import linregress"
   ]
  },
  {
   "cell_type": "code",
   "execution_count": 3,
   "id": "95707887",
   "metadata": {},
   "outputs": [],
   "source": [
    "# Import API key\n",
    "from api_keys import weather_api_key\n"
   ]
  },
  {
   "cell_type": "code",
   "execution_count": 4,
   "id": "61d5bdbf",
   "metadata": {},
   "outputs": [],
   "source": [
    "# Incorporated citipy to determine city based on latitude and longitude\n",
    "from citipy import citipy"
   ]
  },
  {
   "cell_type": "code",
   "execution_count": 5,
   "id": "cff7867c",
   "metadata": {},
   "outputs": [],
   "source": [
    "# Output File (CSV)\n",
    "output_data_file = \"output_data/cities.csv\""
   ]
  },
  {
   "cell_type": "code",
   "execution_count": 6,
   "id": "8954a3cc",
   "metadata": {},
   "outputs": [],
   "source": [
    "# Range of latitudes and longitudes\n",
    "lat_range = (-90, 90)\n",
    "lng_range = (-180, 180)"
   ]
  },
  {
   "cell_type": "markdown",
   "id": "17b0db44",
   "metadata": {},
   "source": []
  },
  {
   "cell_type": "markdown",
   "id": "61a3b095",
   "metadata": {},
   "source": [
    "# Generate Cities List"
   ]
  },
  {
   "cell_type": "code",
   "execution_count": 7,
   "id": "d7060f29",
   "metadata": {},
   "outputs": [],
   "source": [
    "# List for holding lat_lngs and cities\n",
    "lat_lngs = []\n",
    "cities = []"
   ]
  },
  {
   "cell_type": "code",
   "execution_count": 8,
   "id": "2b91a215",
   "metadata": {},
   "outputs": [
    {
     "data": {
      "text/plain": [
       "611"
      ]
     },
     "execution_count": 8,
     "metadata": {},
     "output_type": "execute_result"
    }
   ],
   "source": [
    "# Create a set of random lat and lng combinations\n",
    "lats = np.random.uniform(lat_range[0], lat_range[1], size=1500)\n",
    "lngs = np.random.uniform(lng_range[0], lng_range[1], size=1500)\n",
    "lat_lngs = zip(lats, lngs)\n",
    "\n",
    "# Identify nearest city for each lat, lng combination\n",
    "for lat_lng in lat_lngs:\n",
    "    city = citipy.nearest_city(lat_lng[0], lat_lng[1]).city_name \n",
    "    \n",
    "    # If the city is unique, then add it to a our cities list\n",
    "    if city not in cities:\n",
    "        cities.append(city)\n",
    "        lat_list = lat_lng[0]\n",
    "        lng_list = lat_lng[1]   \n",
    "        \n",
    "# Print the city count to confirm sufficient count\n",
    "len(cities)"
   ]
  },
  {
   "cell_type": "raw",
   "id": "59536040",
   "metadata": {},
   "source": [
    "cities = cities[:5]"
   ]
  },
  {
   "cell_type": "markdown",
   "id": "5295d75d",
   "metadata": {},
   "source": [
    "# Perform API Calls"
   ]
  },
  {
   "cell_type": "code",
   "execution_count": 9,
   "id": "6fa86402",
   "metadata": {},
   "outputs": [],
   "source": [
    "city_data = []"
   ]
  },
  {
   "cell_type": "code",
   "execution_count": 10,
   "id": "4b11d7f6",
   "metadata": {},
   "outputs": [
    {
     "name": "stdout",
     "output_type": "stream",
     "text": [
      "City Name: ushuaia, City Number: 0\n",
      "City Name: puerto ayora, City Number: 1\n",
      "City Name: busselton, City Number: 2\n",
      "City Name: gamba, City Number: 3\n",
      "City Name: ostrovnoy, City Number: 4\n",
      "City Name: yellowknife, City Number: 5\n",
      "City Name: illoqqortoormiut, Not Found\n",
      "City Name: flinders, City Number: 7\n",
      "City Name: vaini, City Number: 8\n",
      "City Name: qaanaaq, City Number: 9\n",
      "City Name: jiddah, Not Found\n",
      "City Name: tuktoyaktuk, City Number: 11\n",
      "City Name: cherskiy, City Number: 12\n",
      "City Name: belushya guba, Not Found\n",
      "City Name: port alfred, City Number: 14\n",
      "City Name: port elizabeth, City Number: 15\n",
      "City Name: tatarsk, City Number: 16\n",
      "City Name: usogorsk, City Number: 17\n",
      "City Name: cape town, City Number: 18\n",
      "City Name: mahebourg, City Number: 19\n",
      "City Name: bambous virieux, City Number: 20\n",
      "City Name: mizdah, City Number: 21\n",
      "City Name: izumo, City Number: 22\n",
      "City Name: vaitupu, Not Found\n",
      "City Name: east london, City Number: 24\n",
      "City Name: rudsar, City Number: 25\n",
      "City Name: mataura, City Number: 26\n",
      "City Name: verkhnyaya balkariya, City Number: 27\n",
      "City Name: mocambique, Not Found\n",
      "City Name: tsihombe, Not Found\n",
      "City Name: nikolskoye, City Number: 30\n",
      "City Name: labytnangi, City Number: 31\n",
      "City Name: bratsk, City Number: 32\n",
      "City Name: gigmoto, City Number: 33\n",
      "City Name: nirmali, City Number: 34\n",
      "City Name: duzce, City Number: 35\n",
      "City Name: shakawe, City Number: 36\n",
      "City Name: barrow, City Number: 37\n",
      "City Name: husavik, City Number: 38\n",
      "City Name: narasannapeta, City Number: 39\n",
      "City Name: kaeo, City Number: 40\n",
      "City Name: provideniya, City Number: 41\n",
      "City Name: hasaki, City Number: 42\n",
      "City Name: saint george, City Number: 43\n",
      "City Name: bowen, City Number: 44\n",
      "City Name: alexandria, City Number: 45\n",
      "City Name: atuona, City Number: 46\n",
      "City Name: hasilpur, City Number: 47\n",
      "City Name: kapaa, City Number: 48\n",
      "City Name: lavrentiya, City Number: 49\n",
      "City Name: clyde river, City Number: 50\n",
      "City Name: tilichiki, City Number: 51\n",
      "City Name: cockburn harbour, Not Found\n",
      "City Name: whitehorse, City Number: 53\n",
      "City Name: nemuro, City Number: 54\n",
      "City Name: taolanaro, Not Found\n",
      "City Name: katsuura, City Number: 56\n",
      "City Name: tasiilaq, City Number: 57\n",
      "City Name: tiksi, City Number: 58\n",
      "City Name: mount isa, City Number: 59\n",
      "City Name: lazaro cardenas, City Number: 60\n",
      "City Name: souris, City Number: 61\n",
      "City Name: saint anthony, City Number: 62\n",
      "City Name: sumbawa, Not Found\n",
      "City Name: bogor, City Number: 64\n",
      "City Name: bluff, City Number: 65\n",
      "City Name: pangai, City Number: 66\n",
      "City Name: kudahuvadhoo, City Number: 67\n",
      "City Name: new norfolk, City Number: 68\n",
      "City Name: barentsburg, Not Found\n",
      "City Name: vilyuysk, City Number: 70\n",
      "City Name: norman wells, City Number: 71\n",
      "City Name: port macquarie, City Number: 72\n",
      "City Name: batsfjord, City Number: 73\n",
      "City Name: arraial do cabo, City Number: 74\n",
      "City Name: punta arenas, City Number: 75\n",
      "City Name: poum, City Number: 76\n",
      "City Name: avarua, City Number: 77\n",
      "City Name: shache, City Number: 78\n",
      "City Name: butaritari, City Number: 79\n",
      "City Name: chuy, City Number: 80\n",
      "City Name: avera, City Number: 81\n",
      "City Name: hokitika, City Number: 82\n",
      "City Name: marcona, Not Found\n",
      "City Name: rikitea, City Number: 84\n",
      "City Name: jamestown, City Number: 85\n",
      "City Name: sinnamary, City Number: 86\n",
      "City Name: ribeira grande, City Number: 87\n",
      "City Name: attawapiskat, Not Found\n",
      "City Name: airai, City Number: 89\n",
      "City Name: teplyk, City Number: 90\n",
      "City Name: san quintin, City Number: 91\n",
      "City Name: seoul, City Number: 92\n",
      "City Name: sorong, City Number: 93\n",
      "City Name: pisco, City Number: 94\n",
      "City Name: lebu, City Number: 95\n",
      "City Name: santa isabel do rio negro, City Number: 96\n",
      "City Name: ambanja, City Number: 97\n",
      "City Name: sawang daen din, City Number: 98\n",
      "City Name: carnarvon, City Number: 99\n",
      "City Name: bathsheba, City Number: 100\n",
      "City Name: balabac, City Number: 101\n",
      "City Name: saint-francois, City Number: 102\n",
      "City Name: buraydah, City Number: 103\n",
      "City Name: pevek, City Number: 104\n",
      "City Name: sao filipe, City Number: 105\n",
      "City Name: tura, City Number: 106\n",
      "City Name: jasper, City Number: 107\n",
      "City Name: dunedin, City Number: 108\n",
      "City Name: mpongwe, City Number: 109\n",
      "City Name: chenghai, City Number: 110\n",
      "City Name: torbay, City Number: 111\n",
      "City Name: shizunai, City Number: 112\n",
      "City Name: road town, City Number: 113\n",
      "City Name: thompson, City Number: 114\n",
      "City Name: natchitoches, City Number: 115\n",
      "City Name: waingapu, City Number: 116\n",
      "City Name: antofagasta, City Number: 117\n",
      "City Name: biak, City Number: 118\n",
      "City Name: swan hill, City Number: 119\n",
      "City Name: ponta do sol, City Number: 120\n",
      "City Name: savalou, City Number: 121\n",
      "City Name: aklavik, City Number: 122\n",
      "City Name: kahului, City Number: 123\n",
      "City Name: hithadhoo, City Number: 124\n",
      "City Name: puerto madryn, City Number: 125\n",
      "City Name: freeport, City Number: 126\n",
      "City Name: hilo, City Number: 127\n",
      "City Name: havoysund, City Number: 128\n",
      "City Name: khatanga, City Number: 129\n",
      "City Name: aksu, City Number: 130\n",
      "City Name: peniche, City Number: 131\n",
      "City Name: hobart, City Number: 132\n",
      "City Name: itarema, City Number: 133\n",
      "City Name: nome, City Number: 134\n",
      "City Name: chokurdakh, City Number: 135\n",
      "City Name: port hardy, City Number: 136\n",
      "City Name: pachino, City Number: 137\n",
      "City Name: meyungs, Not Found\n",
      "City Name: loandjili, City Number: 139\n",
      "City Name: businga, City Number: 140\n",
      "City Name: upernavik, City Number: 141\n",
      "City Name: port blair, City Number: 142\n",
      "City Name: luderitz, City Number: 143\n",
      "City Name: chikoy, Not Found\n",
      "City Name: santa eulalia del rio, Not Found\n",
      "City Name: klaksvik, City Number: 146\n",
      "City Name: nara, City Number: 147\n",
      "City Name: kulhudhuffushi, City Number: 148\n",
      "City Name: kamenka, City Number: 149\n",
      "City Name: bubaque, City Number: 150\n",
      "City Name: taoudenni, City Number: 151\n",
      "City Name: karaul, Not Found\n",
      "City Name: kondinskoye, City Number: 153\n",
      "City Name: ardistan, Not Found\n",
      "City Name: leningradskiy, City Number: 155\n",
      "City Name: hermanus, City Number: 156\n",
      "City Name: faya, City Number: 157\n",
      "City Name: krasnaya zarya, City Number: 158\n",
      "City Name: san carlos de bariloche, City Number: 159\n",
      "City Name: shelburne, City Number: 160\n",
      "City Name: puerto pailas, City Number: 161\n",
      "City Name: yuzhno-yeniseyskiy, Not Found\n",
      "City Name: dingle, City Number: 163\n",
      "City Name: albany, City Number: 164\n",
      "City Name: amherst center, City Number: 165\n",
      "City Name: kailua, City Number: 166\n",
      "City Name: alindao, City Number: 167\n",
      "City Name: ponta delgada, City Number: 168\n",
      "City Name: seredka, City Number: 169\n",
      "City Name: severo-kurilsk, City Number: 170\n",
      "City Name: umm kaddadah, City Number: 171\n",
      "City Name: cidreira, City Number: 172\n",
      "City Name: castro, City Number: 173\n",
      "City Name: prince albert, City Number: 174\n",
      "City Name: wanning, City Number: 175\n",
      "City Name: bredasdorp, City Number: 176\n",
      "City Name: adrar, City Number: 177\n",
      "City Name: bengkulu, City Number: 178\n",
      "City Name: tianpeng, City Number: 179\n",
      "City Name: bethel, City Number: 180\n",
      "City Name: ciudad bolivar, City Number: 181\n",
      "City Name: krasnoselkup, City Number: 182\n",
      "City Name: saint-philippe, City Number: 183\n",
      "City Name: caravelas, City Number: 184\n",
      "City Name: yerraguntla, City Number: 185\n",
      "City Name: lasa, City Number: 186\n",
      "City Name: tuatapere, City Number: 187\n",
      "City Name: bilibino, City Number: 188\n",
      "City Name: coquimbo, City Number: 189\n",
      "City Name: maragogi, City Number: 190\n",
      "City Name: mys shmidta, Not Found\n",
      "City Name: cabedelo, City Number: 192\n",
      "City Name: mbandaka, City Number: 193\n",
      "City Name: muros, City Number: 194\n",
      "City Name: lakselv, City Number: 195\n",
      "City Name: amderma, Not Found\n",
      "City Name: waw, City Number: 197\n",
      "City Name: byron bay, City Number: 198\n",
      "City Name: mulege, City Number: 199\n",
      "City Name: nanortalik, City Number: 200\n",
      "City Name: sioux lookout, City Number: 201\n",
      "City Name: gurupi, City Number: 202\n",
      "City Name: tunceli, City Number: 203\n",
      "City Name: dikson, City Number: 204\n",
      "City Name: baghdad, City Number: 205\n",
      "City Name: bo rai, City Number: 206\n",
      "City Name: mala, City Number: 207\n",
      "City Name: kachiry, City Number: 208\n",
      "City Name: dhenkanal, City Number: 209\n",
      "City Name: dabakala, City Number: 210\n",
      "City Name: port-cartier, City Number: 211\n",
      "City Name: shahr-e babak, City Number: 212\n",
      "City Name: batemans bay, City Number: 213\n",
      "City Name: muravlenko, City Number: 214\n",
      "City Name: cayenne, City Number: 215\n",
      "City Name: wageningen, City Number: 216\n",
      "City Name: kavieng, City Number: 217\n",
      "City Name: manaus, City Number: 218\n"
     ]
    },
    {
     "name": "stdout",
     "output_type": "stream",
     "text": [
      "City Name: basoko, City Number: 219\n",
      "City Name: kodiak, City Number: 220\n",
      "City Name: porosozero, City Number: 221\n",
      "City Name: grand river south east, Not Found\n",
      "City Name: olafsvik, City Number: 223\n",
      "City Name: bokspits, Not Found\n",
      "City Name: codrington, City Number: 225\n",
      "City Name: naze, City Number: 226\n",
      "City Name: olinda, City Number: 227\n",
      "City Name: kimbe, City Number: 228\n",
      "City Name: gat, City Number: 229\n",
      "City Name: machilipatnam, City Number: 230\n",
      "City Name: tabou, City Number: 231\n",
      "City Name: sentyabrskiy, Not Found\n",
      "City Name: pallasovka, City Number: 233\n",
      "City Name: nzerekore, City Number: 234\n",
      "City Name: tecoanapa, City Number: 235\n",
      "City Name: conde, City Number: 236\n",
      "City Name: kaitangata, City Number: 237\n",
      "City Name: san patricio, City Number: 238\n",
      "City Name: oranjemund, City Number: 239\n",
      "City Name: phonhong, City Number: 240\n",
      "City Name: atambua, City Number: 241\n",
      "City Name: maine-soroa, City Number: 242\n",
      "City Name: lochem, City Number: 243\n",
      "City Name: mar del plata, City Number: 244\n",
      "City Name: iquique, City Number: 245\n",
      "City Name: slave lake, City Number: 246\n",
      "City Name: monrovia, City Number: 247\n",
      "City Name: iqaluit, City Number: 248\n",
      "City Name: mogadishu, City Number: 249\n",
      "City Name: santa cruz, City Number: 250\n",
      "City Name: ilulissat, City Number: 251\n",
      "City Name: palmer, City Number: 252\n",
      "City Name: mercedes, City Number: 253\n",
      "City Name: garden city, City Number: 254\n",
      "City Name: thinadhoo, City Number: 255\n",
      "City Name: lompoc, City Number: 256\n",
      "City Name: hitachi, City Number: 257\n",
      "City Name: faanui, City Number: 258\n",
      "City Name: mount gambier, City Number: 259\n",
      "City Name: pacific grove, City Number: 260\n",
      "City Name: kirkwood, City Number: 261\n",
      "City Name: manaure, City Number: 262\n",
      "City Name: souillac, City Number: 263\n",
      "City Name: chimbote, City Number: 264\n",
      "City Name: orange walk, City Number: 265\n",
      "City Name: carbondale, City Number: 266\n",
      "City Name: san ignacio de sabaneta, Not Found\n",
      "City Name: amilly, City Number: 268\n",
      "City Name: buala, City Number: 269\n",
      "City Name: la palma, City Number: 270\n",
      "City Name: old road, Not Found\n",
      "City Name: kyzyl, City Number: 272\n",
      "City Name: oktyabrskiy, City Number: 273\n",
      "City Name: brigantine, City Number: 274\n",
      "City Name: asau, City Number: 275\n",
      "City Name: mrakovo, City Number: 276\n",
      "City Name: krutinka, City Number: 277\n",
      "City Name: broken hill, City Number: 278\n",
      "City Name: qasigiannguit, City Number: 279\n",
      "City Name: fundong, City Number: 280\n",
      "City Name: jingdezhen, City Number: 281\n",
      "City Name: kloulklubed, City Number: 282\n",
      "City Name: sobolevo, City Number: 283\n",
      "City Name: ayagoz, City Number: 284\n",
      "City Name: kokopo, City Number: 285\n",
      "City Name: umm lajj, City Number: 286\n",
      "City Name: portobelo, City Number: 287\n",
      "City Name: srednekolymsk, City Number: 288\n",
      "City Name: griffith, City Number: 289\n",
      "City Name: sechura, City Number: 290\n",
      "City Name: kattivakkam, City Number: 291\n",
      "City Name: stykkisholmur, City Number: 292\n",
      "City Name: strezhevoy, City Number: 293\n",
      "City Name: wolgast, City Number: 294\n",
      "City Name: corcoran, City Number: 295\n",
      "City Name: kampong thum, City Number: 296\n",
      "City Name: chagda, Not Found\n",
      "City Name: praia, City Number: 298\n",
      "City Name: penzance, City Number: 299\n",
      "City Name: verkhoyansk, City Number: 300\n",
      "City Name: serowe, City Number: 301\n",
      "City Name: sakakah, City Number: 302\n",
      "City Name: sirawai, City Number: 303\n",
      "City Name: igarka, City Number: 304\n",
      "City Name: formosa do rio preto, City Number: 305\n",
      "City Name: alotau, Not Found\n",
      "City Name: georgetown, City Number: 307\n",
      "City Name: beringovskiy, City Number: 308\n",
      "City Name: hamilton, City Number: 309\n",
      "City Name: grand gaube, City Number: 310\n",
      "City Name: ngawi, City Number: 311\n",
      "City Name: soloneshnoye, City Number: 312\n",
      "City Name: kapuskasing, City Number: 313\n",
      "City Name: ericeira, City Number: 314\n",
      "City Name: coahuayana, City Number: 315\n",
      "City Name: komsomolskiy, City Number: 316\n",
      "City Name: opochka, City Number: 317\n",
      "City Name: brae, City Number: 318\n",
      "City Name: lagoa, City Number: 319\n",
      "City Name: hami, City Number: 320\n",
      "City Name: qandala, City Number: 321\n",
      "City Name: dwarka, City Number: 322\n",
      "City Name: vaasa, City Number: 323\n",
      "City Name: wakiso, City Number: 324\n",
      "City Name: kendari, City Number: 325\n",
      "City Name: maneromango, City Number: 326\n",
      "City Name: mapimi, City Number: 327\n",
      "City Name: moranbah, City Number: 328\n",
      "City Name: malatya, City Number: 329\n",
      "City Name: tumannyy, Not Found\n",
      "City Name: geraldton, City Number: 331\n",
      "City Name: taksimo, City Number: 332\n",
      "City Name: saskylakh, City Number: 333\n",
      "City Name: victoria, City Number: 334\n",
      "City Name: vardo, City Number: 335\n",
      "City Name: boden, City Number: 336\n",
      "City Name: katherine, City Number: 337\n",
      "City Name: vestmanna, City Number: 338\n",
      "City Name: ouadda, City Number: 339\n",
      "City Name: nouakchott, City Number: 340\n",
      "City Name: castlerea, City Number: 341\n",
      "City Name: borujan, Not Found\n",
      "City Name: westport, City Number: 343\n",
      "City Name: djougou, City Number: 344\n",
      "City Name: amberley, City Number: 345\n",
      "City Name: bronnoysund, City Number: 346\n",
      "City Name: bolungarvik, Not Found\n",
      "City Name: labuhan, City Number: 348\n",
      "City Name: general teran, City Number: 349\n",
      "City Name: colares, City Number: 350\n",
      "City Name: camacha, City Number: 351\n",
      "City Name: salalah, City Number: 352\n",
      "City Name: plerin, City Number: 353\n",
      "City Name: novovarshavka, City Number: 354\n",
      "City Name: acari, City Number: 355\n",
      "City Name: gannan, City Number: 356\n",
      "City Name: beloha, City Number: 357\n",
      "City Name: saleaula, Not Found\n",
      "City Name: fernandina beach, City Number: 359\n",
      "City Name: warrnambool, City Number: 360\n",
      "City Name: cilegon, City Number: 361\n",
      "City Name: keuruu, City Number: 362\n",
      "City Name: northam, City Number: 363\n",
      "City Name: sungaipenuh, City Number: 364\n",
      "City Name: zhigansk, City Number: 365\n",
      "City Name: akyab, City Number: 366\n",
      "City Name: hearst, City Number: 367\n",
      "City Name: kyra, City Number: 368\n",
      "City Name: pecos, City Number: 369\n",
      "City Name: omsukchan, City Number: 370\n",
      "City Name: mitsamiouli, City Number: 371\n",
      "City Name: karkaralinsk, Not Found\n",
      "City Name: saint-denis, City Number: 373\n",
      "City Name: hunza, Not Found\n",
      "City Name: kidal, City Number: 375\n",
      "City Name: ust-nera, City Number: 376\n",
      "City Name: puerto escondido, City Number: 377\n",
      "City Name: neuquen, City Number: 378\n",
      "City Name: brandon, City Number: 379\n",
      "City Name: arawa, City Number: 380\n",
      "City Name: merritt island, City Number: 381\n",
      "City Name: lithakia, City Number: 382\n",
      "City Name: north branch, City Number: 383\n",
      "City Name: saint-leu, City Number: 384\n",
      "City Name: nuuk, City Number: 385\n",
      "City Name: hammond, City Number: 386\n",
      "City Name: hirado, City Number: 387\n",
      "City Name: sistranda, City Number: 388\n",
      "City Name: meulaboh, City Number: 389\n",
      "City Name: plettenberg bay, City Number: 390\n",
      "City Name: maloshuyka, Not Found\n",
      "City Name: damnoen saduak, City Number: 392\n",
      "City Name: mayo, City Number: 393\n",
      "City Name: padang, City Number: 394\n",
      "City Name: xichang, City Number: 395\n",
      "City Name: margate, City Number: 396\n",
      "City Name: pawayan, City Number: 397\n",
      "City Name: imbituba, City Number: 398\n",
      "City Name: dzilam gonzalez, City Number: 399\n",
      "City Name: sangin, City Number: 400\n",
      "City Name: curaca, City Number: 401\n",
      "City Name: palu, City Number: 402\n",
      "City Name: samusu, Not Found\n",
      "City Name: deputatskiy, City Number: 404\n",
      "City Name: teyateyaneng, City Number: 405\n",
      "City Name: kamyshla, City Number: 406\n",
      "City Name: atlantic city, City Number: 407\n",
      "City Name: alofi, City Number: 408\n",
      "City Name: aquin, City Number: 409\n",
      "City Name: maua, City Number: 410\n",
      "City Name: makat, City Number: 411\n",
      "City Name: port lincoln, City Number: 412\n",
      "City Name: erenhot, City Number: 413\n",
      "City Name: arlit, City Number: 414\n",
      "City Name: hambantota, City Number: 415\n",
      "City Name: itaituba, City Number: 416\n",
      "City Name: kutum, City Number: 417\n",
      "City Name: ancud, City Number: 418\n",
      "City Name: aquiraz, City Number: 419\n",
      "City Name: richards bay, City Number: 420\n",
      "City Name: cabo san lucas, City Number: 421\n",
      "City Name: zhetybay, Not Found\n",
      "City Name: hualmay, City Number: 423\n",
      "City Name: haines junction, City Number: 424\n",
      "City Name: tambura, City Number: 425\n",
      "City Name: berezovyy, City Number: 426\n",
      "City Name: ilo, City Number: 427\n",
      "City Name: praia da vitoria, City Number: 428\n",
      "City Name: aykhal, City Number: 429\n",
      "City Name: kruisfontein, City Number: 430\n",
      "City Name: chaman, City Number: 431\n",
      "City Name: nabire, City Number: 432\n",
      "City Name: grindavik, City Number: 433\n",
      "City Name: key west, City Number: 434\n",
      "City Name: karasjok, City Number: 435\n",
      "City Name: keetmanshoop, City Number: 436\n"
     ]
    },
    {
     "name": "stdout",
     "output_type": "stream",
     "text": [
      "City Name: lander, City Number: 437\n",
      "City Name: khonuu, Not Found\n",
      "City Name: dzhebariki-khaya, City Number: 439\n",
      "City Name: robe, City Number: 440\n",
      "City Name: roald, City Number: 441\n",
      "City Name: santa fe, City Number: 442\n",
      "City Name: fortuna, City Number: 443\n",
      "City Name: envira, City Number: 444\n",
      "City Name: benguela, City Number: 445\n",
      "City Name: molina, City Number: 446\n",
      "City Name: cruzeiro do sul, City Number: 447\n",
      "City Name: lorengau, City Number: 448\n",
      "City Name: burnie, City Number: 449\n",
      "City Name: saldanha, City Number: 450\n",
      "City Name: rapina, City Number: 451\n",
      "City Name: ban nahin, City Number: 452\n",
      "City Name: peleduy, City Number: 453\n",
      "City Name: valdemarpils, City Number: 454\n",
      "City Name: prince rupert, City Number: 455\n",
      "City Name: garissa, City Number: 456\n",
      "City Name: namatanai, City Number: 457\n",
      "City Name: portland, City Number: 458\n",
      "City Name: drochtersen, City Number: 459\n",
      "City Name: linxia, City Number: 460\n",
      "City Name: mgachi, City Number: 461\n",
      "City Name: toora-khem, City Number: 462\n",
      "City Name: sedalia, City Number: 463\n",
      "City Name: ruatoria, Not Found\n",
      "City Name: la union, City Number: 465\n",
      "City Name: marrakesh, City Number: 466\n",
      "City Name: sal rei, City Number: 467\n",
      "City Name: evanston, City Number: 468\n",
      "City Name: quatre cocos, City Number: 469\n",
      "City Name: sataua, Not Found\n",
      "City Name: scottsburgh, Not Found\n",
      "City Name: makakilo city, City Number: 472\n",
      "City Name: port hedland, City Number: 473\n",
      "City Name: barcelos, City Number: 474\n",
      "City Name: dubrovnik, City Number: 475\n",
      "City Name: pierre, City Number: 476\n",
      "City Name: amudat, City Number: 477\n",
      "City Name: tiarei, City Number: 478\n",
      "City Name: tucumcari, City Number: 479\n",
      "City Name: chapais, City Number: 480\n",
      "City Name: vila franca do campo, City Number: 481\n",
      "City Name: egvekinot, City Number: 482\n",
      "City Name: guapo, City Number: 483\n",
      "City Name: gerash, City Number: 484\n",
      "City Name: isiro, City Number: 485\n",
      "City Name: te anau, City Number: 486\n",
      "City Name: port augusta, City Number: 487\n",
      "City Name: kawambwa, City Number: 488\n",
      "City Name: aykino, City Number: 489\n",
      "City Name: tarko-sale, City Number: 490\n",
      "City Name: la ronge, City Number: 491\n",
      "City Name: merauke, City Number: 492\n",
      "City Name: vila velha, City Number: 493\n",
      "City Name: nizhneyansk, Not Found\n",
      "City Name: erzin, City Number: 495\n",
      "City Name: klaeng, City Number: 496\n",
      "City Name: mango, City Number: 497\n",
      "City Name: ahipara, City Number: 498\n",
      "City Name: talnakh, City Number: 499\n",
      "City Name: carutapera, City Number: 500\n",
      "City Name: shenjiamen, City Number: 501\n",
      "City Name: sembe, City Number: 502\n",
      "City Name: tshikapa, City Number: 503\n",
      "City Name: imeni poliny osipenko, City Number: 504\n",
      "City Name: lubao, City Number: 505\n",
      "City Name: altay, City Number: 506\n",
      "City Name: novyy urengoy, City Number: 507\n",
      "City Name: kota bahru, City Number: 508\n",
      "City Name: nagato, City Number: 509\n",
      "City Name: reconquista, City Number: 510\n",
      "City Name: centralia, City Number: 511\n",
      "City Name: yulara, City Number: 512\n",
      "City Name: marly, City Number: 513\n",
      "City Name: resistencia, City Number: 514\n",
      "City Name: tateyama, City Number: 515\n",
      "City Name: portsmouth, City Number: 516\n",
      "City Name: tavricheskoye, City Number: 517\n",
      "City Name: beyneu, City Number: 518\n",
      "City Name: riyadh, City Number: 519\n",
      "City Name: cockburn town, City Number: 520\n",
      "City Name: esperance, City Number: 521\n",
      "City Name: derzhavinsk, City Number: 522\n",
      "City Name: sarkand, City Number: 523\n",
      "City Name: chenzhou, City Number: 524\n",
      "City Name: rockport, City Number: 525\n",
      "City Name: irtyshskiy, City Number: 526\n",
      "City Name: gravdal, City Number: 527\n",
      "City Name: rawannawi, Not Found\n",
      "City Name: kalemie, City Number: 529\n",
      "City Name: bikaner, City Number: 530\n",
      "City Name: huarmey, City Number: 531\n",
      "City Name: san rafael, City Number: 532\n",
      "City Name: tessalit, City Number: 533\n",
      "City Name: amarpur, City Number: 534\n",
      "City Name: narsaq, City Number: 535\n",
      "City Name: camocim, City Number: 536\n",
      "City Name: kamaishi, City Number: 537\n",
      "City Name: bartica, City Number: 538\n",
      "City Name: asuncion, City Number: 539\n",
      "City Name: sibolga, City Number: 540\n",
      "City Name: vestmannaeyjar, City Number: 541\n",
      "City Name: solnechnyy, City Number: 542\n",
      "City Name: eslov, City Number: 543\n",
      "City Name: newport, City Number: 544\n",
      "City Name: nantucket, City Number: 545\n",
      "City Name: russell, City Number: 546\n",
      "City Name: namibe, City Number: 547\n",
      "City Name: tautira, City Number: 548\n",
      "City Name: axim, City Number: 549\n",
      "City Name: vao, City Number: 550\n",
      "City Name: yafran, City Number: 551\n",
      "City Name: bosaso, City Number: 552\n",
      "City Name: kirkwall, City Number: 553\n",
      "City Name: hojai, City Number: 554\n",
      "City Name: magistralnyy, City Number: 555\n",
      "City Name: ixtapa, City Number: 556\n",
      "City Name: yurino, City Number: 557\n",
      "City Name: seminole, City Number: 558\n",
      "City Name: zyryanka, City Number: 559\n",
      "City Name: palabuhanratu, Not Found\n",
      "City Name: belmonte, City Number: 561\n",
      "City Name: glace bay, City Number: 562\n",
      "City Name: isernia, City Number: 563\n",
      "City Name: shizuishan, City Number: 564\n",
      "City Name: santiago de cao, City Number: 565\n",
      "City Name: moate, City Number: 566\n",
      "City Name: leh, City Number: 567\n",
      "City Name: yerbogachen, City Number: 568\n",
      "City Name: longyearbyen, City Number: 569\n",
      "City Name: constitucion, City Number: 570\n",
      "City Name: sokoni, City Number: 571\n",
      "City Name: kupang, City Number: 572\n",
      "City Name: skovorodino, City Number: 573\n",
      "City Name: kautokeino, City Number: 574\n",
      "City Name: ambilobe, City Number: 575\n",
      "City Name: puerto carreno, City Number: 576\n",
      "City Name: weligama, City Number: 577\n",
      "City Name: cabra, City Number: 578\n",
      "City Name: benton harbor, City Number: 579\n",
      "City Name: san vicente, City Number: 580\n",
      "City Name: buariki, Not Found\n",
      "City Name: puerto ayacucho, City Number: 582\n",
      "City Name: kaoma, City Number: 583\n",
      "City Name: luquillo, City Number: 584\n",
      "City Name: ola, City Number: 585\n",
      "City Name: barra do garcas, City Number: 586\n",
      "City Name: kieta, City Number: 587\n",
      "City Name: pilar, City Number: 588\n",
      "City Name: kirovsk, City Number: 589\n",
      "City Name: nizhniy odes, City Number: 590\n",
      "City Name: college, City Number: 591\n",
      "City Name: tansen, City Number: 592\n",
      "City Name: ziniare, City Number: 593\n",
      "City Name: marmarion, City Number: 594\n",
      "City Name: havre-saint-pierre, City Number: 595\n",
      "City Name: puerto baquerizo moreno, City Number: 596\n",
      "City Name: scarborough, City Number: 597\n",
      "City Name: nuristan, City Number: 598\n",
      "City Name: shingu, City Number: 599\n",
      "City Name: wahran, Not Found\n",
      "City Name: kodinsk, City Number: 601\n",
      "City Name: luoyang, City Number: 602\n",
      "City Name: sur, City Number: 603\n",
      "City Name: zabaykalsk, City Number: 604\n",
      "City Name: halalo, Not Found\n",
      "City Name: mehamn, City Number: 606\n",
      "City Name: orocue, City Number: 607\n",
      "City Name: falkenberg, City Number: 608\n",
      "City Name: curitibanos, City Number: 609\n",
      "City Name: mersing, City Number: 610\n",
      "---------------------\n",
      "Data Retrieval Complete\n",
      "---------------------\n"
     ]
    }
   ],
   "source": [
    "\n",
    "#Loop through and get data\n",
    "for i, city in enumerate(cities): \n",
    "    try:\n",
    "        base_url = \"https://api.openweathermap.org/data/2.5/weather?q=\"\n",
    "        query_url = f\"{base_url}{city}&units=imperial&appid={weather_api_key}\"\n",
    "        response = requests.get(query_url).json()\n",
    "        \n",
    "        #Append lists\n",
    "        city_name = response[\"name\"]\n",
    "        temps_all = response['main']['temp']\n",
    "        hum_all = response['main']['humidity']\n",
    "        cloud_all = response['clouds']['all']\n",
    "        wind_all = response['wind']['speed']\n",
    "        city_name = response['name']\n",
    "        cntry_all = response['sys']['country']\n",
    "        date = response['dt']\n",
    "        lat_list = response[\"coord\"][\"lat\"]\n",
    "        lng_list = response[\"coord\"][\"lon\"]\n",
    "        \n",
    "        city_data.append({\n",
    "            \"City\": city_name,\n",
    "            \"Temperature\": temps_all,\n",
    "            \"Humidity\": hum_all,\n",
    "            \"Clouds\": cloud_all,\n",
    "            \"Winds\": wind_all,\n",
    "            \"Country\": cntry_all,\n",
    "            \"Date\": date,\n",
    "            \"Latitude\": lat_list,\n",
    "            \"Longitude\": lng_list\n",
    "        })\n",
    "        \n",
    "        print(f\"City Name: {city}, City Number: {i}\")    \n",
    "\n",
    "    except Exception as e:\n",
    "        \n",
    "        print(f\"City Name: {city}, Not Found\")\n",
    "        pass\n",
    "    \n",
    "    \n",
    "print(\"---------------------\") \n",
    "print(\"Data Retrieval Complete\") \n",
    "print(\"---------------------\")  "
   ]
  },
  {
   "cell_type": "code",
   "execution_count": 144,
   "id": "8daa21b2",
   "metadata": {},
   "outputs": [],
   "source": [
    "city_data_df = pd.DataFrame(city_data)\n",
    "\n",
    "### SAVE THIS AS CSV FOR PART 2\n",
    "city_data_df.to_csv(\"CityData.csv\", index=False, header=True)"
   ]
  },
  {
   "cell_type": "code",
   "execution_count": 12,
   "id": "1794de29",
   "metadata": {},
   "outputs": [
    {
     "data": {
      "text/plain": [
       "count       565\n",
       "unique        1\n",
       "top       False\n",
       "freq        565\n",
       "Name: Humidity, dtype: object"
      ]
     },
     "execution_count": 12,
     "metadata": {},
     "output_type": "execute_result"
    }
   ],
   "source": [
    "#Remove cities where humidity is > 100%\n",
    "humid_cities = city_data_df[\"Humidity\"] > 100\n",
    "humid_cities.describe()"
   ]
  },
  {
   "cell_type": "code",
   "execution_count": 13,
   "id": "809f049b",
   "metadata": {},
   "outputs": [
    {
     "data": {
      "text/html": [
       "<div>\n",
       "<style scoped>\n",
       "    .dataframe tbody tr th:only-of-type {\n",
       "        vertical-align: middle;\n",
       "    }\n",
       "\n",
       "    .dataframe tbody tr th {\n",
       "        vertical-align: top;\n",
       "    }\n",
       "\n",
       "    .dataframe thead th {\n",
       "        text-align: right;\n",
       "    }\n",
       "</style>\n",
       "<table border=\"1\" class=\"dataframe\">\n",
       "  <thead>\n",
       "    <tr style=\"text-align: right;\">\n",
       "      <th></th>\n",
       "      <th>City</th>\n",
       "      <th>Temperature</th>\n",
       "      <th>Humidity</th>\n",
       "      <th>Clouds</th>\n",
       "      <th>Winds</th>\n",
       "      <th>Country</th>\n",
       "      <th>Date</th>\n",
       "      <th>Latitude</th>\n",
       "      <th>Longitude</th>\n",
       "    </tr>\n",
       "  </thead>\n",
       "  <tbody>\n",
       "    <tr>\n",
       "      <th>0</th>\n",
       "      <td>Ushuaia</td>\n",
       "      <td>49.66</td>\n",
       "      <td>37</td>\n",
       "      <td>0</td>\n",
       "      <td>8.05</td>\n",
       "      <td>AR</td>\n",
       "      <td>1666733048</td>\n",
       "      <td>-54.8000</td>\n",
       "      <td>-68.3000</td>\n",
       "    </tr>\n",
       "    <tr>\n",
       "      <th>1</th>\n",
       "      <td>Puerto Ayora</td>\n",
       "      <td>68.56</td>\n",
       "      <td>91</td>\n",
       "      <td>81</td>\n",
       "      <td>5.99</td>\n",
       "      <td>EC</td>\n",
       "      <td>1666733602</td>\n",
       "      <td>-0.7393</td>\n",
       "      <td>-90.3518</td>\n",
       "    </tr>\n",
       "    <tr>\n",
       "      <th>2</th>\n",
       "      <td>Busselton</td>\n",
       "      <td>53.37</td>\n",
       "      <td>91</td>\n",
       "      <td>66</td>\n",
       "      <td>3.11</td>\n",
       "      <td>AU</td>\n",
       "      <td>1666733206</td>\n",
       "      <td>-33.6500</td>\n",
       "      <td>115.3333</td>\n",
       "    </tr>\n",
       "    <tr>\n",
       "      <th>3</th>\n",
       "      <td>Gamba</td>\n",
       "      <td>76.87</td>\n",
       "      <td>89</td>\n",
       "      <td>77</td>\n",
       "      <td>1.45</td>\n",
       "      <td>GA</td>\n",
       "      <td>1666733243</td>\n",
       "      <td>-2.6500</td>\n",
       "      <td>10.0000</td>\n",
       "    </tr>\n",
       "    <tr>\n",
       "      <th>4</th>\n",
       "      <td>Ostrovnoy</td>\n",
       "      <td>31.19</td>\n",
       "      <td>88</td>\n",
       "      <td>93</td>\n",
       "      <td>17.43</td>\n",
       "      <td>RU</td>\n",
       "      <td>1666733596</td>\n",
       "      <td>68.0531</td>\n",
       "      <td>39.5131</td>\n",
       "    </tr>\n",
       "    <tr>\n",
       "      <th>...</th>\n",
       "      <td>...</td>\n",
       "      <td>...</td>\n",
       "      <td>...</td>\n",
       "      <td>...</td>\n",
       "      <td>...</td>\n",
       "      <td>...</td>\n",
       "      <td>...</td>\n",
       "      <td>...</td>\n",
       "      <td>...</td>\n",
       "    </tr>\n",
       "    <tr>\n",
       "      <th>560</th>\n",
       "      <td>Mehamn</td>\n",
       "      <td>33.75</td>\n",
       "      <td>75</td>\n",
       "      <td>0</td>\n",
       "      <td>10.36</td>\n",
       "      <td>NO</td>\n",
       "      <td>1666733675</td>\n",
       "      <td>71.0357</td>\n",
       "      <td>27.8492</td>\n",
       "    </tr>\n",
       "    <tr>\n",
       "      <th>561</th>\n",
       "      <td>Orocué</td>\n",
       "      <td>82.54</td>\n",
       "      <td>67</td>\n",
       "      <td>20</td>\n",
       "      <td>0.85</td>\n",
       "      <td>CO</td>\n",
       "      <td>1666733934</td>\n",
       "      <td>4.7912</td>\n",
       "      <td>-71.3354</td>\n",
       "    </tr>\n",
       "    <tr>\n",
       "      <th>562</th>\n",
       "      <td>Falkenberg</td>\n",
       "      <td>53.33</td>\n",
       "      <td>96</td>\n",
       "      <td>28</td>\n",
       "      <td>14.05</td>\n",
       "      <td>SE</td>\n",
       "      <td>1666733935</td>\n",
       "      <td>56.9055</td>\n",
       "      <td>12.4912</td>\n",
       "    </tr>\n",
       "    <tr>\n",
       "      <th>563</th>\n",
       "      <td>Curitibanos</td>\n",
       "      <td>60.33</td>\n",
       "      <td>77</td>\n",
       "      <td>0</td>\n",
       "      <td>5.08</td>\n",
       "      <td>BR</td>\n",
       "      <td>1666733936</td>\n",
       "      <td>-27.2828</td>\n",
       "      <td>-50.5844</td>\n",
       "    </tr>\n",
       "    <tr>\n",
       "      <th>564</th>\n",
       "      <td>Mersing</td>\n",
       "      <td>75.11</td>\n",
       "      <td>94</td>\n",
       "      <td>40</td>\n",
       "      <td>3.44</td>\n",
       "      <td>MY</td>\n",
       "      <td>1666733936</td>\n",
       "      <td>2.4312</td>\n",
       "      <td>103.8405</td>\n",
       "    </tr>\n",
       "  </tbody>\n",
       "</table>\n",
       "<p>565 rows × 9 columns</p>\n",
       "</div>"
      ],
      "text/plain": [
       "             City  Temperature  Humidity  Clouds  Winds Country        Date  \\\n",
       "0         Ushuaia        49.66        37       0   8.05      AR  1666733048   \n",
       "1    Puerto Ayora        68.56        91      81   5.99      EC  1666733602   \n",
       "2       Busselton        53.37        91      66   3.11      AU  1666733206   \n",
       "3           Gamba        76.87        89      77   1.45      GA  1666733243   \n",
       "4       Ostrovnoy        31.19        88      93  17.43      RU  1666733596   \n",
       "..            ...          ...       ...     ...    ...     ...         ...   \n",
       "560        Mehamn        33.75        75       0  10.36      NO  1666733675   \n",
       "561        Orocué        82.54        67      20   0.85      CO  1666733934   \n",
       "562    Falkenberg        53.33        96      28  14.05      SE  1666733935   \n",
       "563   Curitibanos        60.33        77       0   5.08      BR  1666733936   \n",
       "564       Mersing        75.11        94      40   3.44      MY  1666733936   \n",
       "\n",
       "     Latitude  Longitude  \n",
       "0    -54.8000   -68.3000  \n",
       "1     -0.7393   -90.3518  \n",
       "2    -33.6500   115.3333  \n",
       "3     -2.6500    10.0000  \n",
       "4     68.0531    39.5131  \n",
       "..        ...        ...  \n",
       "560   71.0357    27.8492  \n",
       "561    4.7912   -71.3354  \n",
       "562   56.9055    12.4912  \n",
       "563  -27.2828   -50.5844  \n",
       "564    2.4312   103.8405  \n",
       "\n",
       "[565 rows x 9 columns]"
      ]
     },
     "execution_count": 13,
     "metadata": {},
     "output_type": "execute_result"
    }
   ],
   "source": [
    "# Make a new DataFrame equal to the city data to drop all humidity outliers by index.\n",
    "# Passing \"inplace=False\" will make a copy of the city_data DataFrame, which we call \"clean_city_data\".\n",
    "city_data_df\n"
   ]
  },
  {
   "cell_type": "markdown",
   "id": "345a9f2b",
   "metadata": {},
   "source": [
    "# Plotting the Data\n",
    "#* Use proper labeling of the plots using plot titles (including date of analysis) and axes labels.\n",
    "\n",
    "#* Save the plotted figures as .pngs."
   ]
  },
  {
   "cell_type": "code",
   "execution_count": 20,
   "id": "ced84142",
   "metadata": {},
   "outputs": [
    {
     "data": {
      "text/plain": [
       "Text(0, 0.5, 'Temperature')"
      ]
     },
     "execution_count": 20,
     "metadata": {},
     "output_type": "execute_result"
    },
    {
     "data": {
      "image/png": "[encoded data removed]",
      "text/plain": [
       "<Figure size 432x288 with 1 Axes>"
      ]
     },
     "metadata": {
      "needs_background": "light"
     },
     "output_type": "display_data"
    }
   ],
   "source": [
    "#Latitude/Temp\n",
    "plt.scatter(city_data_df['Latitude'], city_data_df[\"Temperature\"])\n",
    "plt.title(\"Latitude & Temperature\")\n",
    "plt.xlabel(\"Latitude\")\n",
    "plt.ylabel(\"Temperature\")"
   ]
  },
  {
   "cell_type": "code",
   "execution_count": 28,
   "id": "87f0c996",
   "metadata": {},
   "outputs": [
    {
     "data": {
      "text/plain": [
       "<Figure size 432x288 with 0 Axes>"
      ]
     },
     "metadata": {},
     "output_type": "display_data"
    }
   ],
   "source": [
    "plt.savefig(\"Latitude&Temperature.png\")\n",
    "plt.show()\n",
    "\n",
    "#This shows that Southern Hemisphere temperature is much warmer than Northern Hemispher temp."
   ]
  },
  {
   "cell_type": "code",
   "execution_count": 29,
   "id": "f265b9e6",
   "metadata": {},
   "outputs": [
    {
     "data": {
      "text/plain": [
       "Text(0, 0.5, 'Humidity')"
      ]
     },
     "execution_count": 29,
     "metadata": {},
     "output_type": "execute_result"
    },
    {
     "data": {
      "image/png": "[encoded data removed]",
      "text/plain": [
       "<Figure size 432x288 with 1 Axes>"
      ]
     },
     "metadata": {
      "needs_background": "light"
     },
     "output_type": "display_data"
    }
   ],
   "source": [
    "#Latitude/Humidity\n",
    "plt.scatter(city_data_df['Latitude'], city_data_df[\"Humidity\"])\n",
    "plt.title(\"Latitude & Humidity\")\n",
    "plt.xlabel(\"Latitude\")\n",
    "plt.ylabel(\"Humidity\")"
   ]
  },
  {
   "cell_type": "code",
   "execution_count": 30,
   "id": "4dfa7cd3",
   "metadata": {},
   "outputs": [
    {
     "data": {
      "text/plain": [
       "<Figure size 432x288 with 0 Axes>"
      ]
     },
     "metadata": {},
     "output_type": "display_data"
    }
   ],
   "source": [
    "plt.savefig(\"Latitude&Humidity.png\")\n",
    "plt.show()\n",
    "\n",
    "#Shows no strong relationship between lat and humidity."
   ]
  },
  {
   "cell_type": "code",
   "execution_count": 33,
   "id": "f8974941",
   "metadata": {},
   "outputs": [
    {
     "data": {
      "text/plain": [
       "Text(0, 0.5, 'Clouds')"
      ]
     },
     "execution_count": 33,
     "metadata": {},
     "output_type": "execute_result"
    },
    {
     "data": {
      "image/png": "[encoded data removed]",
      "text/plain": [
       "<Figure size 432x288 with 1 Axes>"
      ]
     },
     "metadata": {
      "needs_background": "light"
     },
     "output_type": "display_data"
    }
   ],
   "source": [
    "#Latitude/Cloudiness\n",
    "plt.scatter(city_data_df['Latitude'], city_data_df[\"Clouds\"])\n",
    "plt.title(\"Latitude & Clouds\")\n",
    "plt.xlabel(\"Latitude\")\n",
    "plt.ylabel(\"Clouds\")"
   ]
  },
  {
   "cell_type": "code",
   "execution_count": 32,
   "id": "7ba06810",
   "metadata": {},
   "outputs": [
    {
     "data": {
      "text/plain": [
       "<Figure size 432x288 with 0 Axes>"
      ]
     },
     "metadata": {},
     "output_type": "display_data"
    }
   ],
   "source": [
    "plt.savefig(\"Latitude&Clouds.png\")\n",
    "plt.show()\n",
    "\n",
    "#This shows  that the relationshop between latitude and cloud cover is not correlated."
   ]
  },
  {
   "cell_type": "code",
   "execution_count": 34,
   "id": "a16da2ab",
   "metadata": {
    "scrolled": true
   },
   "outputs": [
    {
     "data": {
      "text/plain": [
       "Text(0, 0.5, 'Winds')"
      ]
     },
     "execution_count": 34,
     "metadata": {},
     "output_type": "execute_result"
    },
    {
     "data": {
      "image/png": "[encoded data removed]",
      "text/plain": [
       "<Figure size 432x288 with 1 Axes>"
      ]
     },
     "metadata": {
      "needs_background": "light"
     },
     "output_type": "display_data"
    }
   ],
   "source": [
    "#Latitude/Wind Speed\n",
    "plt.scatter(city_data_df['Latitude'], city_data_df[\"Winds\"])\n",
    "plt.title(\"Latitude & Winds\")\n",
    "plt.xlabel(\"Latitude\")\n",
    "plt.ylabel(\"Winds\")"
   ]
  },
  {
   "cell_type": "code",
   "execution_count": 35,
   "id": "c9004e14",
   "metadata": {},
   "outputs": [
    {
     "data": {
      "text/plain": [
       "<Figure size 432x288 with 0 Axes>"
      ]
     },
     "metadata": {},
     "output_type": "display_data"
    }
   ],
   "source": [
    "plt.savefig(\"Latitude&Winds.png\")\n",
    "plt.show()\n",
    "\n",
    "#Latitude doesn't appear to affect winds."
   ]
  },
  {
   "cell_type": "markdown",
   "id": "904ddb3d",
   "metadata": {},
   "source": [
    "# Linear Regression\n"
   ]
  },
  {
   "cell_type": "code",
   "execution_count": 142,
   "id": "2aff0cb8",
   "metadata": {},
   "outputs": [
    {
     "data": {
      "image/png": "[encoded data removed]",
      "text/plain": [
       "<Figure size 432x288 with 1 Axes>"
      ]
     },
     "metadata": {
      "needs_background": "light"
     },
     "output_type": "display_data"
    },
    {
     "data": {
      "text/plain": [
       "<Figure size 432x288 with 0 Axes>"
      ]
     },
     "metadata": {},
     "output_type": "display_data"
    }
   ],
   "source": [
    "####  Northern Hemisphere - Max Temp vs. Latitude Linear Regression\n",
    "lat_temp_df = city_data_df[[\"Latitude\"] + [\"Temperature\"]]\n",
    "north_lat_temp_df = lat_temp_df[lat_temp_df[\"Latitude\"] >= 0]\n",
    "north_lat_temp_df\n",
    "\n",
    "x_values = north_lat_temp_df['Latitude']\n",
    "y_values = north_lat_temp_df['Temperature']\n",
    "(slope, intercept, rvalue, pvalue, stderr) = linregress(x_values, y_values)\n",
    "regress_values = x_values * slope + intercept\n",
    "line_eq = \"y = \" + str(round(slope,2)) + \"x + \" + str(round(intercept,2))\n",
    "plt.scatter(x_values,y_values)\n",
    "plt.plot(x_values,regress_values,\"r-\")\n",
    "plt.annotate(line_eq,(5.8,0.8),fontsize=15,color=\"red\")\n",
    "plt.xlabel('Latitude')\n",
    "plt.ylabel('Temperature')\n",
    "plt.show()\n",
    "\n",
    "plt.savefig(\"LineReg8.png\")\n",
    "plt.show()"
   ]
  },
  {
   "cell_type": "code",
   "execution_count": 135,
   "id": "c8236133",
   "metadata": {},
   "outputs": [
    {
     "data": {
      "image/png": "[encoded data removed]",
      "text/plain": [
       "<Figure size 432x288 with 1 Axes>"
      ]
     },
     "metadata": {
      "needs_background": "light"
     },
     "output_type": "display_data"
    },
    {
     "data": {
      "text/plain": [
       "<Figure size 432x288 with 0 Axes>"
      ]
     },
     "metadata": {},
     "output_type": "display_data"
    }
   ],
   "source": [
    "####  Southern Hemisphere - Max Temp vs. Latitude Linear Regression\n",
    "lat_temp_df = city_data_df[[\"Latitude\"] + [\"Temperature\"]]\n",
    "south_lat_temp_df = lat_temp_df[lat_temp_df[\"Latitude\"] < 0]\n",
    "south_lat_temp_df\n",
    "\n",
    "x_values = south_lat_temp_df['Latitude']\n",
    "y_values = south_lat_temp_df['Temperature']\n",
    "(slope, intercept, rvalue, pvalue, stderr) = linregress(x_values, y_values)\n",
    "regress_values = x_values * slope + intercept\n",
    "line_eq = \"y = \" + str(round(slope,2)) + \"x + \" + str(round(intercept,2))\n",
    "plt.scatter(x_values,y_values)\n",
    "plt.plot(x_values,regress_values,\"r-\")\n",
    "plt.annotate(line_eq,(-57,92),fontsize=15,color=\"red\")\n",
    "plt.xlabel('Latitude')\n",
    "plt.ylabel('Temperature')\n",
    "plt.show()\n",
    "\n",
    "plt.savefig(\"LineReg1.png\")\n",
    "plt.show()"
   ]
  },
  {
   "cell_type": "code",
   "execution_count": 136,
   "id": "818911b9",
   "metadata": {},
   "outputs": [
    {
     "data": {
      "image/png": "[encoded data removed]",
      "text/plain": [
       "<Figure size 432x288 with 1 Axes>"
      ]
     },
     "metadata": {
      "needs_background": "light"
     },
     "output_type": "display_data"
    },
    {
     "data": {
      "text/plain": [
       "<Figure size 432x288 with 0 Axes>"
      ]
     },
     "metadata": {},
     "output_type": "display_data"
    }
   ],
   "source": [
    "####  Northern Hemisphere - Humidity (%) vs. Latitude Linear Regression\n",
    "lat_hum_df = city_data_df[[\"Latitude\"] + [\"Humidity\"]]\n",
    "north_lat_hum_df = lat_hum_df[lat_temp_df[\"Latitude\"] >= 0]\n",
    "north_lat_hum_df\n",
    "\n",
    "x_values = north_lat_hum_df['Latitude']\n",
    "y_values = north_lat_hum_df['Humidity']\n",
    "(slope, intercept, rvalue, pvalue, stderr) = linregress(x_values, y_values)\n",
    "regress_values = x_values * slope + intercept\n",
    "line_eq = \"y = \" + str(round(slope,2)) + \"x + \" + str(round(intercept,2))\n",
    "plt.scatter(x_values,y_values)\n",
    "plt.plot(x_values,regress_values,\"r-\")\n",
    "plt.annotate(line_eq,(41,10),fontsize=15,color=\"red\")\n",
    "plt.xlabel('Latitude')\n",
    "plt.ylabel('Humidity')\n",
    "plt.show()\n",
    "\n",
    "plt.savefig(\"LineReg2.png\")\n",
    "plt.show()\n"
   ]
  },
  {
   "cell_type": "code",
   "execution_count": 137,
   "id": "d7344df9",
   "metadata": {},
   "outputs": [
    {
     "data": {
      "image/png": "[encoded data removed]",
      "text/plain": [
       "<Figure size 432x288 with 1 Axes>"
      ]
     },
     "metadata": {
      "needs_background": "light"
     },
     "output_type": "display_data"
    },
    {
     "data": {
      "text/plain": [
       "<Figure size 432x288 with 0 Axes>"
      ]
     },
     "metadata": {},
     "output_type": "display_data"
    }
   ],
   "source": [
    "####  Southern Hemisphere - Humidity (%) vs. Latitude Linear Regression\n",
    "lat_hum_df = city_data_df[[\"Latitude\"] + [\"Humidity\"]]\n",
    "south_lat_hum_df = lat_hum_df[lat_temp_df[\"Latitude\"] < 0]\n",
    "south_lat_hum_df\n",
    "\n",
    "x_values = south_lat_hum_df['Latitude']\n",
    "y_values = south_lat_hum_df['Humidity']\n",
    "(slope, intercept, rvalue, pvalue, stderr) = linregress(x_values, y_values)\n",
    "regress_values = x_values * slope + intercept\n",
    "line_eq = \"y = \" + str(round(slope,2)) + \"x + \" + str(round(intercept,2))\n",
    "plt.scatter(x_values,y_values)\n",
    "plt.plot(x_values,regress_values,\"r-\")\n",
    "plt.annotate(line_eq,(-57,25),fontsize=15,color=\"red\")\n",
    "plt.xlabel('Latitude')\n",
    "plt.ylabel('Humidity')\n",
    "plt.show()\n",
    "\n",
    "plt.savefig(\"LineReg3.png\")\n",
    "plt.show()"
   ]
  },
  {
   "cell_type": "code",
   "execution_count": 138,
   "id": "7bd8173a",
   "metadata": {},
   "outputs": [
    {
     "data": {
      "image/png": "[encoded data removed]",
      "text/plain": [
       "<Figure size 432x288 with 1 Axes>"
      ]
     },
     "metadata": {
      "needs_background": "light"
     },
     "output_type": "display_data"
    },
    {
     "data": {
      "text/plain": [
       "<Figure size 432x288 with 0 Axes>"
      ]
     },
     "metadata": {},
     "output_type": "display_data"
    }
   ],
   "source": [
    "####  Northern Hemisphere - Cloudiness (%) vs. Latitude Linear Regression\n",
    "lat_cloud_df = city_data_df[[\"Latitude\"] + [\"Clouds\"]]\n",
    "north_lat_cloud_df = lat_cloud_df[lat_temp_df[\"Latitude\"] >= 0]\n",
    "north_lat_cloud_df\n",
    "\n",
    "x_values = north_lat_cloud_df['Latitude']\n",
    "y_values = north_lat_cloud_df['Clouds']\n",
    "(slope, intercept, rvalue, pvalue, stderr) = linregress(x_values, y_values)\n",
    "regress_values = x_values * slope + intercept\n",
    "line_eq = \"y = \" + str(round(slope,2)) + \"x + \" + str(round(intercept,2))\n",
    "plt.scatter(x_values,y_values)\n",
    "plt.plot(x_values,regress_values,\"r-\")\n",
    "plt.annotate(line_eq,(-1,1),fontsize=15,color=\"red\")\n",
    "plt.xlabel('Latitude')\n",
    "plt.ylabel('Clouds')\n",
    "plt.show()\n",
    "\n",
    "plt.savefig(\"LineReg4.png\")\n",
    "plt.show()"
   ]
  },
  {
   "cell_type": "code",
   "execution_count": 139,
   "id": "851943c4",
   "metadata": {},
   "outputs": [
    {
     "data": {
      "image/png": "[encoded data removed]",
      "text/plain": [
       "<Figure size 432x288 with 1 Axes>"
      ]
     },
     "metadata": {
      "needs_background": "light"
     },
     "output_type": "display_data"
    },
    {
     "data": {
      "text/plain": [
       "<Figure size 432x288 with 0 Axes>"
      ]
     },
     "metadata": {},
     "output_type": "display_data"
    }
   ],
   "source": [
    "####  Southern Hemisphere - Cloudiness (%) vs. Latitude Linear Regression\n",
    "lat_cloud_df = city_data_df[[\"Latitude\"] + [\"Clouds\"]]\n",
    "south_lat_cloud_df = lat_cloud_df[lat_temp_df[\"Latitude\"] < 0]\n",
    "south_lat_cloud_df\n",
    "\n",
    "x_values = south_lat_cloud_df['Latitude']\n",
    "y_values = south_lat_cloud_df['Clouds']\n",
    "(slope, intercept, rvalue, pvalue, stderr) = linregress(x_values, y_values)\n",
    "regress_values = x_values * slope + intercept\n",
    "line_eq = \"y = \" + str(round(slope,2)) + \"x + \" + str(round(intercept,2))\n",
    "plt.scatter(x_values,y_values)\n",
    "plt.plot(x_values,regress_values,\"r-\")\n",
    "plt.annotate(line_eq,(-55,10),fontsize=15,color=\"red\")\n",
    "plt.xlabel('Latitude')\n",
    "plt.ylabel('Clouds')\n",
    "plt.show()\n",
    "\n",
    "plt.savefig(\"LineReg5.png\")\n",
    "plt.show()"
   ]
  },
  {
   "cell_type": "code",
   "execution_count": 140,
   "id": "d5c71d5a",
   "metadata": {},
   "outputs": [
    {
     "data": {
      "image/png": "[encoded data removed]",
      "text/plain": [
       "<Figure size 432x288 with 1 Axes>"
      ]
     },
     "metadata": {
      "needs_background": "light"
     },
     "output_type": "display_data"
    },
    {
     "data": {
      "text/plain": [
       "<Figure size 432x288 with 0 Axes>"
      ]
     },
     "metadata": {},
     "output_type": "display_data"
    }
   ],
   "source": [
    "####  Northern Hemisphere - Wind Speed (mph) vs. Latitude Linear Regression\n",
    "lat_wind_df = city_data_df[[\"Latitude\"] + [\"Winds\"]]\n",
    "north_lat_wind_df = lat_wind_df[lat_temp_df[\"Latitude\"] >= 0]\n",
    "north_lat_wind_df\n",
    "\n",
    "x_values = north_lat_wind_df['Latitude']\n",
    "y_values = north_lat_wind_df['Winds']\n",
    "(slope, intercept, rvalue, pvalue, stderr) = linregress(x_values, y_values)\n",
    "regress_values = x_values * slope + intercept\n",
    "line_eq = \"y = \" + str(round(slope,2)) + \"x + \" + str(round(intercept,2))\n",
    "plt.scatter(x_values,y_values)\n",
    "plt.plot(x_values,regress_values,\"r-\")\n",
    "plt.annotate(line_eq,(2,29),fontsize=15,color=\"red\")\n",
    "plt.xlabel('Latitude')\n",
    "plt.ylabel('Wind')\n",
    "plt.show()\n",
    "\n",
    "plt.savefig(\"LineReg6.png\")\n",
    "plt.show()"
   ]
  },
  {
   "cell_type": "code",
   "execution_count": 141,
   "id": "864f849d",
   "metadata": {},
   "outputs": [
    {
     "data": {
      "image/png": "[encoded data removed]",
      "text/plain": [
       "<Figure size 432x288 with 1 Axes>"
      ]
     },
     "metadata": {
      "needs_background": "light"
     },
     "output_type": "display_data"
    },
    {
     "data": {
      "text/plain": [
       "<Figure size 432x288 with 0 Axes>"
      ]
     },
     "metadata": {},
     "output_type": "display_data"
    }
   ],
   "source": [
    "####  Southern Hemisphere - Wind Speed (mph) vs. Latitude Linear Regression\n",
    "lat_wind_df = city_data_df[[\"Latitude\"] + [\"Winds\"]]\n",
    "south_lat_wind_df = lat_wind_df[lat_temp_df[\"Latitude\"] < 0]\n",
    "south_lat_wind_df\n",
    "\n",
    "x_values = south_lat_wind_df['Latitude']\n",
    "y_values = south_lat_wind_df['Winds']\n",
    "(slope, intercept, rvalue, pvalue, stderr) = linregress(x_values, y_values)\n",
    "regress_values = x_values * slope + intercept\n",
    "line_eq = \"y = \" + str(round(slope,2)) + \"x + \" + str(round(intercept,2))\n",
    "plt.scatter(x_values,y_values)\n",
    "plt.plot(x_values,regress_values,\"r-\")\n",
    "plt.annotate(line_eq,(-55,23),fontsize=15,color=\"red\")\n",
    "plt.xlabel('Latitude')\n",
    "plt.ylabel('Wind')\n",
    "plt.show()\n",
    "\n",
    "plt.savefig(\"LineReg7.png\")\n",
    "plt.show()"
   ]
  },
  {
   "cell_type": "code",
   "execution_count": null,
   "id": "b4320ac9",
   "metadata": {},
   "outputs": [],
   "source": []
  }
 ],
 "metadata": {
  "kernelspec": {
   "display_name": "PythonData",
   "language": "python",
   "name": "pythondata"
  },
  "language_info": {
   "codemirror_mode": {
    "name": "ipython",
    "version": 3
   },
   "file_extension": ".py",
   "mimetype": "text/x-python",
   "name": "python",
   "nbconvert_exporter": "python",
   "pygments_lexer": "ipython3",
   "version": "3.7.7"
  }
 },
 "nbformat": 4,
 "nbformat_minor": 5
}
