{
 "cells": [
  {
   "cell_type": "markdown",
   "id": "313aaf48",
   "metadata": {},
   "source": [
    "# WeatherPY\n"
   ]
  },
  {
   "cell_type": "code",
   "execution_count": 1,
   "id": "82957654",
   "metadata": {},
   "outputs": [
    {
     "name": "stdout",
     "output_type": "stream",
     "text": [
      "Requirement already satisfied: citipy in /Users/JAS/opt/anaconda3/envs/PythonData/lib/python3.7/site-packages (0.0.5)\n",
      "Requirement already satisfied: kdtree>=0.12 in /Users/JAS/opt/anaconda3/envs/PythonData/lib/python3.7/site-packages (from citipy) (0.16)\n",
      "Note: you may need to restart the kernel to use updated packages.\n"
     ]
    }
   ],
   "source": [
    "pip install citipy"
   ]
  },
  {
   "cell_type": "code",
   "execution_count": 2,
   "id": "074bc3b8",
   "metadata": {},
   "outputs": [],
   "source": [
    "# Dependencies and Setup\n",
    "import matplotlib.pyplot as plt\n",
    "import pandas as pd\n",
    "import numpy as np\n",
    "import requests\n",
    "import time\n",
    "from scipy.stats import linregress"
   ]
  },
  {
   "cell_type": "code",
   "execution_count": 3,
   "id": "95707887",
   "metadata": {},
   "outputs": [
    {
     "name": "stdout",
     "output_type": "stream",
     "text": [
      "80d3acaae5ee8ba6491415a6012483f0\n"
     ]
    }
   ],
   "source": [
    "# Import API key\n",
    "from api_keys import weather_api_key\n",
    "print(weather_api_key)"
   ]
  },
  {
   "cell_type": "code",
   "execution_count": 4,
   "id": "61d5bdbf",
   "metadata": {},
   "outputs": [],
   "source": [
    "# Incorporated citipy to determine city based on latitude and longitude\n",
    "from citipy import citipy"
   ]
  },
  {
   "cell_type": "code",
   "execution_count": 5,
   "id": "cff7867c",
   "metadata": {},
   "outputs": [],
   "source": [
    "# Output File (CSV)\n",
    "output_data_file = \"output_data/cities.csv\""
   ]
  },
  {
   "cell_type": "code",
   "execution_count": 6,
   "id": "8954a3cc",
   "metadata": {},
   "outputs": [],
   "source": [
    "# Range of latitudes and longitudes\n",
    "lat_range = (-90, 90)\n",
    "lng_range = (-180, 180)"
   ]
  },
  {
   "cell_type": "markdown",
   "id": "17b0db44",
   "metadata": {},
   "source": []
  },
  {
   "cell_type": "markdown",
   "id": "61a3b095",
   "metadata": {},
   "source": [
    "# Generate Cities List"
   ]
  },
  {
   "cell_type": "code",
   "execution_count": 7,
   "id": "d7060f29",
   "metadata": {},
   "outputs": [],
   "source": [
    "# List for holding lat_lngs and cities\n",
    "lat_lngs = []\n",
    "cities = []\n",
    "lat_list = []\n",
    "lng_list = []"
   ]
  },
  {
   "cell_type": "code",
   "execution_count": 8,
   "id": "2b91a215",
   "metadata": {},
   "outputs": [
    {
     "data": {
      "text/plain": [
       "601"
      ]
     },
     "execution_count": 8,
     "metadata": {},
     "output_type": "execute_result"
    }
   ],
   "source": [
    "# Create a set of random lat and lng combinations\n",
    "lats = np.random.uniform(lat_range[0], lat_range[1], size=1500)\n",
    "lngs = np.random.uniform(lng_range[0], lng_range[1], size=1500)\n",
    "lat_lngs = zip(lats, lngs)\n",
    "\n",
    "# Identify nearest city for each lat, lng combination\n",
    "for lat_lng in lat_lngs:\n",
    "    city = citipy.nearest_city(lat_lng[0], lat_lng[1]).city_name \n",
    "    \n",
    "    # If the city is unique, then add it to a our cities list\n",
    "    if city not in cities:\n",
    "        cities.append(city)\n",
    "        lat_list = lat_lng[0]\n",
    "        lng_list = lat_lng[1]   \n",
    "        \n",
    "# Print the city count to confirm sufficient count\n",
    "len(cities)"
   ]
  },
  {
   "cell_type": "code",
   "execution_count": null,
   "id": "a32778f3",
   "metadata": {},
   "outputs": [],
   "source": []
  },
  {
   "cell_type": "markdown",
   "id": "5295d75d",
   "metadata": {},
   "source": [
    "# Perform API Calls"
   ]
  },
  {
   "cell_type": "code",
   "execution_count": 9,
   "id": "4b11d7f6",
   "metadata": {},
   "outputs": [
    {
     "ename": "SyntaxError",
     "evalue": "EOL while scanning string literal (1542824175.py, line 27)",
     "output_type": "error",
     "traceback": [
      "\u001b[0;36m  File \u001b[0;32m\"/var/folders/5g/40rn4tnx255g473j4b0r3nww0000gn/T/ipykernel_51372/1542824175.py\"\u001b[0;36m, line \u001b[0;32m27\u001b[0m\n\u001b[0;31m    print(f\"City Name: {city_name}, City Number: {city})\u001b[0m\n\u001b[0m                                                        ^\u001b[0m\n\u001b[0;31mSyntaxError\u001b[0m\u001b[0;31m:\u001b[0m EOL while scanning string literal\n"
     ]
    }
   ],
   "source": [
    "#Lists for data\n",
    "temps_all = []\n",
    "hum_all = []\n",
    "cloud_all = []\n",
    "wind_all = []\n",
    "city_name = []\n",
    "city_num = []\n",
    "\n",
    "base_url = \"https://api.openweathermap.org/data/2.5/weather?\"\n",
    "#ex = https://api.openweathermap.org/data/2.5/weather?lat={lat}&lon={lon}&appid={API key}\n",
    "query_url = f\"{base_url}lat={lat_list}&lon={lng_list}&units=imperial&appid={weather_api_key}\"\n",
    "\n",
    "weather_response = requests.get(query_url).json()\n",
    "#weather_response\n",
    "\n",
    "#Loop through and get data\n",
    "for city in range(len(cities)):     #len(cities)\n",
    "    response = requests.get(query_url).json()\n",
    "    \n",
    "    #Append lists\n",
    "    temps_all.append(response['main']['temp']) \n",
    "    hum_all.append(response['main']['humidity'])\n",
    "    cloud_all.append(response['clouds'])\n",
    "    wind_all.append(response['wind']['speed'])\n",
    "    city_name.append(response['name'])\n",
    "    \n",
    "print(f\"City Name: {city_name}, City Number: {city})\n",
    "print(f\"Temperaure: {temps_all})\n",
    "print(f\"Humidity: {hum_all})\n",
    "print(f\"Clouds: {cloud_all})\n",
    "print(f\"Winds: {wind_all})\n",
    "\n",
    "\n"
   ]
  },
  {
   "cell_type": "code",
   "execution_count": null,
   "id": "8daa21b2",
   "metadata": {},
   "outputs": [],
   "source": []
  },
  {
   "cell_type": "code",
   "execution_count": null,
   "id": "1794de29",
   "metadata": {},
   "outputs": [],
   "source": []
  },
  {
   "cell_type": "code",
   "execution_count": null,
   "id": "809f049b",
   "metadata": {},
   "outputs": [],
   "source": []
  },
  {
   "cell_type": "code",
   "execution_count": null,
   "id": "bcc28a1c",
   "metadata": {},
   "outputs": [],
   "source": []
  },
  {
   "cell_type": "code",
   "execution_count": null,
   "id": "ced84142",
   "metadata": {},
   "outputs": [],
   "source": []
  },
  {
   "cell_type": "code",
   "execution_count": null,
   "id": "f265b9e6",
   "metadata": {},
   "outputs": [],
   "source": []
  },
  {
   "cell_type": "code",
   "execution_count": null,
   "id": "f8974941",
   "metadata": {},
   "outputs": [],
   "source": []
  },
  {
   "cell_type": "code",
   "execution_count": null,
   "id": "a16da2ab",
   "metadata": {},
   "outputs": [],
   "source": []
  },
  {
   "cell_type": "code",
   "execution_count": null,
   "id": "81e7cf7b",
   "metadata": {},
   "outputs": [],
   "source": []
  },
  {
   "cell_type": "code",
   "execution_count": null,
   "id": "5edaa17f",
   "metadata": {},
   "outputs": [],
   "source": []
  },
  {
   "cell_type": "code",
   "execution_count": null,
   "id": "851943c4",
   "metadata": {},
   "outputs": [],
   "source": []
  }
 ],
 "metadata": {
  "kernelspec": {
   "display_name": "PythonData",
   "language": "python",
   "name": "pythondata"
  },
  "language_info": {
   "codemirror_mode": {
    "name": "ipython",
    "version": 3
   },
   "file_extension": ".py",
   "mimetype": "text/x-python",
   "name": "python",
   "nbconvert_exporter": "python",
   "pygments_lexer": "ipython3",
   "version": "3.7.7"
  }
 },
 "nbformat": 4,
 "nbformat_minor": 5
}
