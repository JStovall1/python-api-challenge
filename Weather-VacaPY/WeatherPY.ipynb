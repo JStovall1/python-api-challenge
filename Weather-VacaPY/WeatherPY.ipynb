{
 "cells": [
  {
   "cell_type": "markdown",
   "id": "313aaf48",
   "metadata": {},
   "source": [
    "# WeatherPY\n"
   ]
  },
  {
   "cell_type": "code",
   "execution_count": 1,
   "id": "82957654",
   "metadata": {},
   "outputs": [
    {
     "name": "stdout",
     "output_type": "stream",
     "text": [
      "Requirement already satisfied: citipy in /Users/JAS/opt/anaconda3/envs/PythonData/lib/python3.7/site-packages (0.0.5)\n",
      "Requirement already satisfied: kdtree>=0.12 in /Users/JAS/opt/anaconda3/envs/PythonData/lib/python3.7/site-packages (from citipy) (0.16)\n",
      "Note: you may need to restart the kernel to use updated packages.\n"
     ]
    }
   ],
   "source": [
    "pip install citipy"
   ]
  },
  {
   "cell_type": "code",
   "execution_count": 2,
   "id": "074bc3b8",
   "metadata": {},
   "outputs": [],
   "source": [
    "# Dependencies and Setup\n",
    "import matplotlib.pyplot as plt\n",
    "import pandas as pd\n",
    "import numpy as np\n",
    "import requests\n",
    "import time\n",
    "from scipy.stats import linregress"
   ]
  },
  {
   "cell_type": "code",
   "execution_count": 3,
   "id": "95707887",
   "metadata": {},
   "outputs": [
    {
     "name": "stdout",
     "output_type": "stream",
     "text": [
      "80d3acaae5ee8ba6491415a6012483f0\n"
     ]
    }
   ],
   "source": [
    "# Import API key\n",
    "from api_keys import weather_api_key\n",
    "print(weather_api_key)"
   ]
  },
  {
   "cell_type": "code",
   "execution_count": 4,
   "id": "61d5bdbf",
   "metadata": {},
   "outputs": [],
   "source": [
    "# Incorporated citipy to determine city based on latitude and longitude\n",
    "from citipy import citipy"
   ]
  },
  {
   "cell_type": "code",
   "execution_count": 5,
   "id": "cff7867c",
   "metadata": {},
   "outputs": [],
   "source": [
    "# Output File (CSV)\n",
    "output_data_file = \"output_data/cities.csv\""
   ]
  },
  {
   "cell_type": "code",
   "execution_count": 6,
   "id": "8954a3cc",
   "metadata": {},
   "outputs": [],
   "source": [
    "# Range of latitudes and longitudes\n",
    "lat_range = (-90, 90)\n",
    "lng_range = (-180, 180)"
   ]
  },
  {
   "cell_type": "markdown",
   "id": "17b0db44",
   "metadata": {},
   "source": []
  },
  {
   "cell_type": "markdown",
   "id": "61a3b095",
   "metadata": {},
   "source": [
    "# Generate Cities List"
   ]
  },
  {
   "cell_type": "code",
   "execution_count": 7,
   "id": "d7060f29",
   "metadata": {},
   "outputs": [],
   "source": [
    "# List for holding lat_lngs and cities\n",
    "lat_lngs = []\n",
    "cities = []"
   ]
  },
  {
   "cell_type": "code",
   "execution_count": 8,
   "id": "2b91a215",
   "metadata": {},
   "outputs": [
    {
     "data": {
      "text/plain": [
       "626"
      ]
     },
     "execution_count": 8,
     "metadata": {},
     "output_type": "execute_result"
    }
   ],
   "source": [
    "# Create a set of random lat and lng combinations\n",
    "lats = np.random.uniform(lat_range[0], lat_range[1], size=1500)\n",
    "lngs = np.random.uniform(lng_range[0], lng_range[1], size=1500)\n",
    "lat_lngs = zip(lats, lngs)\n",
    "\n",
    "# Identify nearest city for each lat, lng combination\n",
    "for lat_lng in lat_lngs:\n",
    "    city = citipy.nearest_city(lat_lng[0], lat_lng[1]).city_name \n",
    "    \n",
    "    # If the city is unique, then add it to a our cities list\n",
    "    if city not in cities:\n",
    "        cities.append(city)\n",
    "        lat_list = lat_lng[0]\n",
    "        lng_list = lat_lng[1]   \n",
    "        \n",
    "# Print the city count to confirm sufficient count\n",
    "len(cities)"
   ]
  },
  {
   "cell_type": "code",
   "execution_count": null,
   "id": "a32778f3",
   "metadata": {},
   "outputs": [],
   "source": []
  },
  {
   "cell_type": "markdown",
   "id": "5295d75d",
   "metadata": {},
   "source": [
    "# Perform API Calls"
   ]
  },
  {
   "cell_type": "code",
   "execution_count": 21,
   "id": "4b11d7f6",
   "metadata": {},
   "outputs": [
    {
     "name": "stdout",
     "output_type": "stream",
     "text": [
      "City Name: ushuaia, City Number: 0\n",
      "[{'cod': '404', 'message': 'city not found'}]\n",
      "City Name: clyde river, City Number: 1\n",
      "[{'cod': '404', 'message': 'city not found'}]\n",
      "City Name: aklavik, City Number: 2\n",
      "[{'cod': '404', 'message': 'city not found'}]\n",
      "City Name: sarangani, City Number: 3\n",
      "[{'cod': '404', 'message': 'city not found'}]\n",
      "City Name: kodiak, City Number: 4\n",
      "[{'cod': '404', 'message': 'city not found'}]\n",
      "City Name: rikitea, City Number: 5\n",
      "[{'cod': '404', 'message': 'city not found'}]\n",
      "City Name: mar del plata, City Number: 6\n",
      "[{'cod': '404', 'message': 'city not found'}]\n",
      "City Name: carnaiba, City Number: 7\n",
      "[{'cod': '404', 'message': 'city not found'}]\n"
     ]
    }
   ],
   "source": [
    "\n",
    "base_url = \"https://api.openweathermap.org/data/2.5/weather?q=\"\n",
    "\n",
    "#Loop through and get data\n",
    "for city in range(0,8):   #len(cities)\n",
    "    print(f\"City Name: {cities[city]}, City Number: {city}\")\n",
    "#     try:\n",
    "#         #Append lists\n",
    "#         city_name.append(response[\"name\"])\n",
    "#         temps_all.append(response['main']['temp']) \n",
    "#         hum_all.append(response['main']['humidity'])\n",
    "#         cloud_all.append(response['clouds'])\n",
    "#         wind_all.append(response['wind']['speed'])\n",
    "#         city_name.append(response['name'])\n",
    "#         cntry_all.append(response['sys']['country'])\n",
    "#         date.append(response['dt'])\n",
    "#         lat_list.append(response[\"coord\"][\"lat\"])\n",
    "#         lng_list.append(response[\"coord\"][\"lon\"])\n",
    "        \n",
    "#     except Exception as e:\n",
    "# #         pass\n",
    "    query_url = f\"{base_url}{city}&units=imperial&appid={weather_api_key}\"\n",
    "    response_json = [requests.get(query_url).json()]\n",
    "\n"
   ]
  },
  {
   "cell_type": "code",
   "execution_count": null,
   "id": "8daa21b2",
   "metadata": {},
   "outputs": [],
   "source": []
  },
  {
   "cell_type": "code",
   "execution_count": null,
   "id": "1794de29",
   "metadata": {},
   "outputs": [],
   "source": [
    "#Remove cities where humidity is > 100%"
   ]
  },
  {
   "cell_type": "code",
   "execution_count": null,
   "id": "809f049b",
   "metadata": {},
   "outputs": [],
   "source": [
    "# Make a new DataFrame equal to the city data to drop all humidity outliers by index.\n",
    "# Passing \"inplace=False\" will make a copy of the city_data DataFrame, which we call \"clean_city_data\"."
   ]
  },
  {
   "cell_type": "markdown",
   "id": "345a9f2b",
   "metadata": {},
   "source": [
    "# Plotting the Data\n",
    "#* Use proper labeling of the plots using plot titles (including date of analysis) and axes labels.\n",
    "\n",
    "#* Save the plotted figures as .pngs."
   ]
  },
  {
   "cell_type": "code",
   "execution_count": null,
   "id": "ced84142",
   "metadata": {},
   "outputs": [],
   "source": [
    "#Latitude/Temp\n",
    "plt.scatter(df['Latitude'], df[\"Temperature\"])"
   ]
  },
  {
   "cell_type": "code",
   "execution_count": null,
   "id": "f265b9e6",
   "metadata": {},
   "outputs": [],
   "source": [
    "#Latitude/Humidity\n"
   ]
  },
  {
   "cell_type": "code",
   "execution_count": null,
   "id": "f8974941",
   "metadata": {},
   "outputs": [],
   "source": [
    "#Latitude/Cloudiness\n"
   ]
  },
  {
   "cell_type": "code",
   "execution_count": null,
   "id": "a16da2ab",
   "metadata": {},
   "outputs": [],
   "source": [
    "#Latitude/Wind Speed\n"
   ]
  },
  {
   "cell_type": "code",
   "execution_count": null,
   "id": "81e7cf7b",
   "metadata": {},
   "outputs": [],
   "source": [
    "#Linear Regression\n"
   ]
  },
  {
   "cell_type": "code",
   "execution_count": null,
   "id": "5edaa17f",
   "metadata": {},
   "outputs": [],
   "source": []
  },
  {
   "cell_type": "code",
   "execution_count": null,
   "id": "2aff0cb8",
   "metadata": {},
   "outputs": [],
   "source": [
    "####  Northern Hemisphere - Max Temp vs. Latitude Linear Regression\n"
   ]
  },
  {
   "cell_type": "code",
   "execution_count": null,
   "id": "c8236133",
   "metadata": {},
   "outputs": [],
   "source": [
    "####  Southern Hemisphere - Max Temp vs. Latitude Linear Regression\n"
   ]
  },
  {
   "cell_type": "code",
   "execution_count": null,
   "id": "818911b9",
   "metadata": {},
   "outputs": [],
   "source": [
    "####  Northern Hemisphere - Humidity (%) vs. Latitude Linear Regression\n"
   ]
  },
  {
   "cell_type": "code",
   "execution_count": null,
   "id": "d7344df9",
   "metadata": {},
   "outputs": [],
   "source": [
    "####  Southern Hemisphere - Humidity (%) vs. Latitude Linear Regression\n"
   ]
  },
  {
   "cell_type": "code",
   "execution_count": null,
   "id": "7bd8173a",
   "metadata": {},
   "outputs": [],
   "source": [
    "####  Northern Hemisphere - Cloudiness (%) vs. Latitude Linear Regression\n"
   ]
  },
  {
   "cell_type": "code",
   "execution_count": null,
   "id": "851943c4",
   "metadata": {},
   "outputs": [],
   "source": [
    "####  Southern Hemisphere - Cloudiness (%) vs. Latitude Linear Regression\n"
   ]
  },
  {
   "cell_type": "code",
   "execution_count": null,
   "id": "d5c71d5a",
   "metadata": {},
   "outputs": [],
   "source": [
    "####  Northern Hemisphere - Wind Speed (mph) vs. Latitude Linear Regression\n"
   ]
  },
  {
   "cell_type": "code",
   "execution_count": null,
   "id": "864f849d",
   "metadata": {},
   "outputs": [],
   "source": [
    "####  Southern Hemisphere - Wind Speed (mph) vs. Latitude Linear Regression\n"
   ]
  },
  {
   "cell_type": "code",
   "execution_count": null,
   "id": "b4320ac9",
   "metadata": {},
   "outputs": [],
   "source": []
  }
 ],
 "metadata": {
  "kernelspec": {
   "display_name": "PythonData",
   "language": "python",
   "name": "pythondata"
  },
  "language_info": {
   "codemirror_mode": {
    "name": "ipython",
    "version": 3
   },
   "file_extension": ".py",
   "mimetype": "text/x-python",
   "name": "python",
   "nbconvert_exporter": "python",
   "pygments_lexer": "ipython3",
   "version": "3.7.7"
  }
 },
 "nbformat": 4,
 "nbformat_minor": 5
}
