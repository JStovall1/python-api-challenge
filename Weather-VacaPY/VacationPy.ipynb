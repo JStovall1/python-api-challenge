{
 "cells": [
  {
   "cell_type": "code",
   "execution_count": 1,
   "id": "ad9c9a42",
   "metadata": {},
   "outputs": [
    {
     "name": "stdout",
     "output_type": "stream",
     "text": [
      "Requirement already satisfied: gmaps in /Users/JAS/opt/anaconda3/lib/python3.9/site-packages (0.9.0)\n",
      "Requirement already satisfied: six in /Users/JAS/opt/anaconda3/lib/python3.9/site-packages (from gmaps) (1.16.0)\n",
      "Requirement already satisfied: ipython>=5.3.0 in /Users/JAS/opt/anaconda3/lib/python3.9/site-packages (from gmaps) (8.2.0)\n",
      "Requirement already satisfied: traitlets>=4.3.0 in /Users/JAS/opt/anaconda3/lib/python3.9/site-packages (from gmaps) (5.1.1)\n",
      "Requirement already satisfied: ipywidgets>=7.0.0 in /Users/JAS/opt/anaconda3/lib/python3.9/site-packages (from gmaps) (7.6.5)\n",
      "Requirement already satisfied: geojson>=2.0.0 in /Users/JAS/opt/anaconda3/lib/python3.9/site-packages (from gmaps) (2.5.0)\n",
      "Requirement already satisfied: pexpect>4.3 in /Users/JAS/opt/anaconda3/lib/python3.9/site-packages (from ipython>=5.3.0->gmaps) (4.8.0)\n",
      "Requirement already satisfied: setuptools>=18.5 in /Users/JAS/opt/anaconda3/lib/python3.9/site-packages (from ipython>=5.3.0->gmaps) (61.2.0)\n",
      "Requirement already satisfied: jedi>=0.16 in /Users/JAS/opt/anaconda3/lib/python3.9/site-packages (from ipython>=5.3.0->gmaps) (0.18.1)\n",
      "Requirement already satisfied: stack-data in /Users/JAS/opt/anaconda3/lib/python3.9/site-packages (from ipython>=5.3.0->gmaps) (0.2.0)\n",
      "Requirement already satisfied: decorator in /Users/JAS/opt/anaconda3/lib/python3.9/site-packages (from ipython>=5.3.0->gmaps) (5.1.1)\n",
      "Requirement already satisfied: matplotlib-inline in /Users/JAS/opt/anaconda3/lib/python3.9/site-packages (from ipython>=5.3.0->gmaps) (0.1.2)\n",
      "Requirement already satisfied: pickleshare in /Users/JAS/opt/anaconda3/lib/python3.9/site-packages (from ipython>=5.3.0->gmaps) (0.7.5)\n",
      "Requirement already satisfied: pygments>=2.4.0 in /Users/JAS/opt/anaconda3/lib/python3.9/site-packages (from ipython>=5.3.0->gmaps) (2.11.2)\n",
      "Requirement already satisfied: backcall in /Users/JAS/opt/anaconda3/lib/python3.9/site-packages (from ipython>=5.3.0->gmaps) (0.2.0)\n",
      "Requirement already satisfied: prompt-toolkit!=3.0.0,!=3.0.1,<3.1.0,>=2.0.0 in /Users/JAS/opt/anaconda3/lib/python3.9/site-packages (from ipython>=5.3.0->gmaps) (3.0.20)\n",
      "Requirement already satisfied: appnope in /Users/JAS/opt/anaconda3/lib/python3.9/site-packages (from ipython>=5.3.0->gmaps) (0.1.2)\n",
      "Requirement already satisfied: widgetsnbextension~=3.5.0 in /Users/JAS/opt/anaconda3/lib/python3.9/site-packages (from ipywidgets>=7.0.0->gmaps) (3.5.2)\n",
      "Requirement already satisfied: ipython-genutils~=0.2.0 in /Users/JAS/opt/anaconda3/lib/python3.9/site-packages (from ipywidgets>=7.0.0->gmaps) (0.2.0)\n",
      "Requirement already satisfied: nbformat>=4.2.0 in /Users/JAS/opt/anaconda3/lib/python3.9/site-packages (from ipywidgets>=7.0.0->gmaps) (5.3.0)\n",
      "Requirement already satisfied: jupyterlab-widgets>=1.0.0 in /Users/JAS/opt/anaconda3/lib/python3.9/site-packages (from ipywidgets>=7.0.0->gmaps) (1.0.0)\n",
      "Requirement already satisfied: ipykernel>=4.5.1 in /Users/JAS/opt/anaconda3/lib/python3.9/site-packages (from ipywidgets>=7.0.0->gmaps) (6.9.1)\n",
      "Requirement already satisfied: jupyter-client<8.0 in /Users/JAS/opt/anaconda3/lib/python3.9/site-packages (from ipykernel>=4.5.1->ipywidgets>=7.0.0->gmaps) (6.1.12)\n",
      "Requirement already satisfied: debugpy<2.0,>=1.0.0 in /Users/JAS/opt/anaconda3/lib/python3.9/site-packages (from ipykernel>=4.5.1->ipywidgets>=7.0.0->gmaps) (1.5.1)\n",
      "Requirement already satisfied: tornado<7.0,>=4.2 in /Users/JAS/opt/anaconda3/lib/python3.9/site-packages (from ipykernel>=4.5.1->ipywidgets>=7.0.0->gmaps) (6.1)\n",
      "Requirement already satisfied: nest-asyncio in /Users/JAS/opt/anaconda3/lib/python3.9/site-packages (from ipykernel>=4.5.1->ipywidgets>=7.0.0->gmaps) (1.5.5)\n",
      "Requirement already satisfied: parso<0.9.0,>=0.8.0 in /Users/JAS/opt/anaconda3/lib/python3.9/site-packages (from jedi>=0.16->ipython>=5.3.0->gmaps) (0.8.3)\n",
      "Requirement already satisfied: pyzmq>=13 in /Users/JAS/opt/anaconda3/lib/python3.9/site-packages (from jupyter-client<8.0->ipykernel>=4.5.1->ipywidgets>=7.0.0->gmaps) (22.3.0)\n",
      "Requirement already satisfied: python-dateutil>=2.1 in /Users/JAS/opt/anaconda3/lib/python3.9/site-packages (from jupyter-client<8.0->ipykernel>=4.5.1->ipywidgets>=7.0.0->gmaps) (2.8.2)\n",
      "Requirement already satisfied: jupyter-core>=4.6.0 in /Users/JAS/opt/anaconda3/lib/python3.9/site-packages (from jupyter-client<8.0->ipykernel>=4.5.1->ipywidgets>=7.0.0->gmaps) (4.9.2)\n",
      "Requirement already satisfied: jsonschema>=2.6 in /Users/JAS/opt/anaconda3/lib/python3.9/site-packages (from nbformat>=4.2.0->ipywidgets>=7.0.0->gmaps) (4.4.0)\n",
      "Requirement already satisfied: fastjsonschema in /Users/JAS/opt/anaconda3/lib/python3.9/site-packages (from nbformat>=4.2.0->ipywidgets>=7.0.0->gmaps) (2.15.1)\n",
      "Requirement already satisfied: pyrsistent!=0.17.0,!=0.17.1,!=0.17.2,>=0.14.0 in /Users/JAS/opt/anaconda3/lib/python3.9/site-packages (from jsonschema>=2.6->nbformat>=4.2.0->ipywidgets>=7.0.0->gmaps) (0.18.0)\n",
      "Requirement already satisfied: attrs>=17.4.0 in /Users/JAS/opt/anaconda3/lib/python3.9/site-packages (from jsonschema>=2.6->nbformat>=4.2.0->ipywidgets>=7.0.0->gmaps) (21.4.0)\n",
      "Requirement already satisfied: ptyprocess>=0.5 in /Users/JAS/opt/anaconda3/lib/python3.9/site-packages (from pexpect>4.3->ipython>=5.3.0->gmaps) (0.7.0)\n",
      "Requirement already satisfied: wcwidth in /Users/JAS/opt/anaconda3/lib/python3.9/site-packages (from prompt-toolkit!=3.0.0,!=3.0.1,<3.1.0,>=2.0.0->ipython>=5.3.0->gmaps) (0.2.5)\n",
      "Requirement already satisfied: notebook>=4.4.1 in /Users/JAS/opt/anaconda3/lib/python3.9/site-packages (from widgetsnbextension~=3.5.0->ipywidgets>=7.0.0->gmaps) (6.4.8)\n",
      "Requirement already satisfied: nbconvert in /Users/JAS/opt/anaconda3/lib/python3.9/site-packages (from notebook>=4.4.1->widgetsnbextension~=3.5.0->ipywidgets>=7.0.0->gmaps) (6.4.4)\n",
      "Requirement already satisfied: argon2-cffi in /Users/JAS/opt/anaconda3/lib/python3.9/site-packages (from notebook>=4.4.1->widgetsnbextension~=3.5.0->ipywidgets>=7.0.0->gmaps) (21.3.0)\n",
      "Requirement already satisfied: Send2Trash>=1.8.0 in /Users/JAS/opt/anaconda3/lib/python3.9/site-packages (from notebook>=4.4.1->widgetsnbextension~=3.5.0->ipywidgets>=7.0.0->gmaps) (1.8.0)\n",
      "Requirement already satisfied: terminado>=0.8.3 in /Users/JAS/opt/anaconda3/lib/python3.9/site-packages (from notebook>=4.4.1->widgetsnbextension~=3.5.0->ipywidgets>=7.0.0->gmaps) (0.13.1)\n",
      "Requirement already satisfied: prometheus-client in /Users/JAS/opt/anaconda3/lib/python3.9/site-packages (from notebook>=4.4.1->widgetsnbextension~=3.5.0->ipywidgets>=7.0.0->gmaps) (0.13.1)\n",
      "Requirement already satisfied: jinja2 in /Users/JAS/opt/anaconda3/lib/python3.9/site-packages (from notebook>=4.4.1->widgetsnbextension~=3.5.0->ipywidgets>=7.0.0->gmaps) (2.11.3)\n",
      "Requirement already satisfied: argon2-cffi-bindings in /Users/JAS/opt/anaconda3/lib/python3.9/site-packages (from argon2-cffi->notebook>=4.4.1->widgetsnbextension~=3.5.0->ipywidgets>=7.0.0->gmaps) (21.2.0)\n",
      "Requirement already satisfied: cffi>=1.0.1 in /Users/JAS/opt/anaconda3/lib/python3.9/site-packages (from argon2-cffi-bindings->argon2-cffi->notebook>=4.4.1->widgetsnbextension~=3.5.0->ipywidgets>=7.0.0->gmaps) (1.15.0)\n",
      "Requirement already satisfied: pycparser in /Users/JAS/opt/anaconda3/lib/python3.9/site-packages (from cffi>=1.0.1->argon2-cffi-bindings->argon2-cffi->notebook>=4.4.1->widgetsnbextension~=3.5.0->ipywidgets>=7.0.0->gmaps) (2.21)\n",
      "Requirement already satisfied: MarkupSafe>=0.23 in /Users/JAS/opt/anaconda3/lib/python3.9/site-packages (from jinja2->notebook>=4.4.1->widgetsnbextension~=3.5.0->ipywidgets>=7.0.0->gmaps) (2.0.1)\n",
      "Requirement already satisfied: pandocfilters>=1.4.1 in /Users/JAS/opt/anaconda3/lib/python3.9/site-packages (from nbconvert->notebook>=4.4.1->widgetsnbextension~=3.5.0->ipywidgets>=7.0.0->gmaps) (1.5.0)\n",
      "Requirement already satisfied: bleach in /Users/JAS/opt/anaconda3/lib/python3.9/site-packages (from nbconvert->notebook>=4.4.1->widgetsnbextension~=3.5.0->ipywidgets>=7.0.0->gmaps) (4.1.0)\n",
      "Requirement already satisfied: testpath in /Users/JAS/opt/anaconda3/lib/python3.9/site-packages (from nbconvert->notebook>=4.4.1->widgetsnbextension~=3.5.0->ipywidgets>=7.0.0->gmaps) (0.5.0)\n",
      "Requirement already satisfied: nbclient<0.6.0,>=0.5.0 in /Users/JAS/opt/anaconda3/lib/python3.9/site-packages (from nbconvert->notebook>=4.4.1->widgetsnbextension~=3.5.0->ipywidgets>=7.0.0->gmaps) (0.5.13)\n",
      "Requirement already satisfied: beautifulsoup4 in /Users/JAS/opt/anaconda3/lib/python3.9/site-packages (from nbconvert->notebook>=4.4.1->widgetsnbextension~=3.5.0->ipywidgets>=7.0.0->gmaps) (4.11.1)\n",
      "Requirement already satisfied: jupyterlab-pygments in /Users/JAS/opt/anaconda3/lib/python3.9/site-packages (from nbconvert->notebook>=4.4.1->widgetsnbextension~=3.5.0->ipywidgets>=7.0.0->gmaps) (0.1.2)\n",
      "Requirement already satisfied: mistune<2,>=0.8.1 in /Users/JAS/opt/anaconda3/lib/python3.9/site-packages (from nbconvert->notebook>=4.4.1->widgetsnbextension~=3.5.0->ipywidgets>=7.0.0->gmaps) (0.8.4)\n",
      "Requirement already satisfied: defusedxml in /Users/JAS/opt/anaconda3/lib/python3.9/site-packages (from nbconvert->notebook>=4.4.1->widgetsnbextension~=3.5.0->ipywidgets>=7.0.0->gmaps) (0.7.1)\n",
      "Requirement already satisfied: entrypoints>=0.2.2 in /Users/JAS/opt/anaconda3/lib/python3.9/site-packages (from nbconvert->notebook>=4.4.1->widgetsnbextension~=3.5.0->ipywidgets>=7.0.0->gmaps) (0.4)\n",
      "Requirement already satisfied: soupsieve>1.2 in /Users/JAS/opt/anaconda3/lib/python3.9/site-packages (from beautifulsoup4->nbconvert->notebook>=4.4.1->widgetsnbextension~=3.5.0->ipywidgets>=7.0.0->gmaps) (2.3.1)\n",
      "Requirement already satisfied: webencodings in /Users/JAS/opt/anaconda3/lib/python3.9/site-packages (from bleach->nbconvert->notebook>=4.4.1->widgetsnbextension~=3.5.0->ipywidgets>=7.0.0->gmaps) (0.5.1)\n",
      "Requirement already satisfied: packaging in /Users/JAS/opt/anaconda3/lib/python3.9/site-packages (from bleach->nbconvert->notebook>=4.4.1->widgetsnbextension~=3.5.0->ipywidgets>=7.0.0->gmaps) (21.3)\n",
      "Requirement already satisfied: pyparsing!=3.0.5,>=2.0.2 in /Users/JAS/opt/anaconda3/lib/python3.9/site-packages (from packaging->bleach->nbconvert->notebook>=4.4.1->widgetsnbextension~=3.5.0->ipywidgets>=7.0.0->gmaps) (3.0.4)\n"
     ]
    },
    {
     "name": "stdout",
     "output_type": "stream",
     "text": [
      "Requirement already satisfied: executing in /Users/JAS/opt/anaconda3/lib/python3.9/site-packages (from stack-data->ipython>=5.3.0->gmaps) (0.8.3)\n",
      "Requirement already satisfied: pure-eval in /Users/JAS/opt/anaconda3/lib/python3.9/site-packages (from stack-data->ipython>=5.3.0->gmaps) (0.2.2)\n",
      "Requirement already satisfied: asttokens in /Users/JAS/opt/anaconda3/lib/python3.9/site-packages (from stack-data->ipython>=5.3.0->gmaps) (2.0.5)\n",
      "Note: you may need to restart the kernel to use updated packages.\n"
     ]
    }
   ],
   "source": [
    "pip install gmaps"
   ]
  },
  {
   "cell_type": "code",
   "execution_count": 2,
   "id": "9b07082d",
   "metadata": {},
   "outputs": [],
   "source": [
    "# Dependencies and Setup\n",
    "import matplotlib.pyplot as plt\n",
    "import pandas as pd\n",
    "import numpy as np\n",
    "import requests\n",
    "import gmaps\n",
    "import os\n",
    "\n",
    "# Import API key\n",
    "from api_keys import g_key"
   ]
  },
  {
   "cell_type": "markdown",
   "id": "4aacbfc4",
   "metadata": {},
   "source": [
    "# Store Part I Results into DataFrame"
   ]
  },
  {
   "cell_type": "code",
   "execution_count": null,
   "id": "76168372",
   "metadata": {},
   "outputs": [],
   "source": [
    "#* Load the csv exported in Part I to a DataFrame\n"
   ]
  },
  {
   "cell_type": "code",
   "execution_count": null,
   "id": "655c6d6e",
   "metadata": {},
   "outputs": [],
   "source": []
  },
  {
   "cell_type": "markdown",
   "id": "04d10db1",
   "metadata": {},
   "source": [
    "# Humidity Heatmap"
   ]
  },
  {
   "cell_type": "code",
   "execution_count": null,
   "id": "c4af5bb6",
   "metadata": {},
   "outputs": [],
   "source": [
    "# * Configure gmaps.\n",
    "# * Use the Lat and Lng as locations and Humidity as the weight.\n",
    "# * Add Heatmap layer to map.\n",
    "\n",
    "\n"
   ]
  },
  {
   "cell_type": "code",
   "execution_count": null,
   "id": "431f1f71",
   "metadata": {},
   "outputs": [],
   "source": []
  },
  {
   "cell_type": "markdown",
   "id": "5995edee",
   "metadata": {},
   "source": [
    "### Create new DataFrame fitting weather criteria\n"
   ]
  },
  {
   "cell_type": "code",
   "execution_count": null,
   "id": "1119c60d",
   "metadata": {},
   "outputs": [],
   "source": [
    "# * Narrow down the cities to fit weather conditions.\n",
    "# * Drop any rows will null values."
   ]
  },
  {
   "cell_type": "code",
   "execution_count": null,
   "id": "7690b373",
   "metadata": {},
   "outputs": [],
   "source": []
  },
  {
   "cell_type": "markdown",
   "id": "7f5c7e5f",
   "metadata": {},
   "source": [
    "# Hotel Map"
   ]
  },
  {
   "cell_type": "code",
   "execution_count": null,
   "id": "28504e29",
   "metadata": {},
   "outputs": [],
   "source": [
    "# * Store into variable named `hotel_df`.\n",
    "# * Add a \"Hotel Name\" column to the DataFrame.\n",
    "# * Set parameters to search for hotels with 5000 meters.\n",
    "# * Hit the Google Places API for each city's coordinates.\n",
    "# * Store the first Hotel result into the DataFrame.\n",
    "# * Plot markers on top of the heatmap."
   ]
  },
  {
   "cell_type": "code",
   "execution_count": null,
   "id": "723da9e6",
   "metadata": {},
   "outputs": [],
   "source": []
  },
  {
   "cell_type": "code",
   "execution_count": null,
   "id": "9193cc8c",
   "metadata": {},
   "outputs": [],
   "source": [
    "# NOTE: Do not change any of the code in this cell\n",
    "\n",
    "# Using the template add the hotel marks to the heatmap\n",
    "info_box_template = \"\"\"\n",
    "<dl>\n",
    "<dt>Name</dt><dd>{Hotel Name}</dd>\n",
    "<dt>City</dt><dd>{City}</dd>\n",
    "<dt>Country</dt><dd>{Country}</dd>\n",
    "</dl>\n",
    "\"\"\"\n",
    "# Store the DataFrame Row\n",
    "# NOTE: be sure to update with your DataFrame name\n",
    "hotel_info = [info_box_template.format(**row) for index, row in hotel_df.iterrows()]\n",
    "locations = hotel_df[[\"Lat\", \"Lng\"]]"
   ]
  },
  {
   "cell_type": "code",
   "execution_count": null,
   "id": "d1983ea3",
   "metadata": {},
   "outputs": [],
   "source": []
  },
  {
   "cell_type": "code",
   "execution_count": null,
   "id": "265e4a3e",
   "metadata": {},
   "outputs": [],
   "source": [
    "# Add marker layer ontop of heat map\n",
    "\n",
    "\n",
    "# Display figure"
   ]
  },
  {
   "cell_type": "code",
   "execution_count": null,
   "id": "70c0b068",
   "metadata": {},
   "outputs": [],
   "source": []
  },
  {
   "cell_type": "code",
   "execution_count": null,
   "id": "c0385f79",
   "metadata": {},
   "outputs": [],
   "source": []
  },
  {
   "cell_type": "code",
   "execution_count": null,
   "id": "3320edbb",
   "metadata": {},
   "outputs": [],
   "source": []
  },
  {
   "cell_type": "code",
   "execution_count": null,
   "id": "28dd591a",
   "metadata": {},
   "outputs": [],
   "source": []
  },
  {
   "cell_type": "code",
   "execution_count": null,
   "id": "ff838968",
   "metadata": {},
   "outputs": [],
   "source": []
  },
  {
   "cell_type": "code",
   "execution_count": null,
   "id": "42bd67e1",
   "metadata": {},
   "outputs": [],
   "source": []
  },
  {
   "cell_type": "code",
   "execution_count": null,
   "id": "e02a2d2d",
   "metadata": {},
   "outputs": [],
   "source": []
  },
  {
   "cell_type": "code",
   "execution_count": null,
   "id": "9c5e7f66",
   "metadata": {},
   "outputs": [],
   "source": []
  }
 ],
 "metadata": {
  "kernelspec": {
   "display_name": "Python 3 (ipykernel)",
   "language": "python",
   "name": "python3"
  },
  "language_info": {
   "codemirror_mode": {
    "name": "ipython",
    "version": 3
   },
   "file_extension": ".py",
   "mimetype": "text/x-python",
   "name": "python",
   "nbconvert_exporter": "python",
   "pygments_lexer": "ipython3",
   "version": "3.9.12"
  }
 },
 "nbformat": 4,
 "nbformat_minor": 5
}
